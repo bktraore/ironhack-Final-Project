{
 "cells": [
  {
   "cell_type": "code",
   "execution_count": 2,
   "metadata": {},
   "outputs": [],
   "source": [
    "import pandas as pd\n",
    "import numpy as np\n",
    "import seaborn as sns\n",
    "import matplotlib.pyplot as plt\n",
    "plt.style.use('default')"
   ]
  },
  {
   "cell_type": "code",
   "execution_count": 3,
   "metadata": {},
   "outputs": [
    {
     "data": {
      "text/html": [
       "<div>\n",
       "<style scoped>\n",
       "    .dataframe tbody tr th:only-of-type {\n",
       "        vertical-align: middle;\n",
       "    }\n",
       "\n",
       "    .dataframe tbody tr th {\n",
       "        vertical-align: top;\n",
       "    }\n",
       "\n",
       "    .dataframe thead th {\n",
       "        text-align: right;\n",
       "    }\n",
       "</style>\n",
       "<table border=\"1\" class=\"dataframe\">\n",
       "  <thead>\n",
       "    <tr style=\"text-align: right;\">\n",
       "      <th></th>\n",
       "      <th>Unnamed: 0</th>\n",
       "      <th>GAME_DATE_EST</th>\n",
       "      <th>GAME_ID</th>\n",
       "      <th>HOME_TEAM_ID</th>\n",
       "      <th>VISITOR_TEAM_ID</th>\n",
       "      <th>SEASON</th>\n",
       "      <th>TEAM_ID_home</th>\n",
       "      <th>PTS_home</th>\n",
       "      <th>FG_PCT_home</th>\n",
       "      <th>FT_PCT_home</th>\n",
       "      <th>...</th>\n",
       "      <th>AST_home</th>\n",
       "      <th>REB_home</th>\n",
       "      <th>TEAM_ID_away</th>\n",
       "      <th>PTS_away</th>\n",
       "      <th>FG_PCT_away</th>\n",
       "      <th>FT_PCT_away</th>\n",
       "      <th>FG3_PCT_away</th>\n",
       "      <th>AST_away</th>\n",
       "      <th>REB_away</th>\n",
       "      <th>HOME_TEAM_WINS</th>\n",
       "    </tr>\n",
       "  </thead>\n",
       "  <tbody>\n",
       "    <tr>\n",
       "      <th>0</th>\n",
       "      <td>0</td>\n",
       "      <td>2022-03-12</td>\n",
       "      <td>22101005</td>\n",
       "      <td>1610612748</td>\n",
       "      <td>1610612750</td>\n",
       "      <td>2021</td>\n",
       "      <td>1610612748</td>\n",
       "      <td>104.0</td>\n",
       "      <td>0.398</td>\n",
       "      <td>0.760</td>\n",
       "      <td>...</td>\n",
       "      <td>23.0</td>\n",
       "      <td>53.0</td>\n",
       "      <td>1610612750</td>\n",
       "      <td>113.0</td>\n",
       "      <td>0.422</td>\n",
       "      <td>0.875</td>\n",
       "      <td>0.357</td>\n",
       "      <td>21.0</td>\n",
       "      <td>46.0</td>\n",
       "      <td>0</td>\n",
       "    </tr>\n",
       "    <tr>\n",
       "      <th>1</th>\n",
       "      <td>1</td>\n",
       "      <td>2022-03-12</td>\n",
       "      <td>22101006</td>\n",
       "      <td>1610612741</td>\n",
       "      <td>1610612739</td>\n",
       "      <td>2021</td>\n",
       "      <td>1610612741</td>\n",
       "      <td>101.0</td>\n",
       "      <td>0.443</td>\n",
       "      <td>0.933</td>\n",
       "      <td>...</td>\n",
       "      <td>20.0</td>\n",
       "      <td>46.0</td>\n",
       "      <td>1610612739</td>\n",
       "      <td>91.0</td>\n",
       "      <td>0.419</td>\n",
       "      <td>0.824</td>\n",
       "      <td>0.208</td>\n",
       "      <td>19.0</td>\n",
       "      <td>40.0</td>\n",
       "      <td>1</td>\n",
       "    </tr>\n",
       "    <tr>\n",
       "      <th>2</th>\n",
       "      <td>2</td>\n",
       "      <td>2022-03-12</td>\n",
       "      <td>22101007</td>\n",
       "      <td>1610612759</td>\n",
       "      <td>1610612754</td>\n",
       "      <td>2021</td>\n",
       "      <td>1610612759</td>\n",
       "      <td>108.0</td>\n",
       "      <td>0.412</td>\n",
       "      <td>0.813</td>\n",
       "      <td>...</td>\n",
       "      <td>28.0</td>\n",
       "      <td>52.0</td>\n",
       "      <td>1610612754</td>\n",
       "      <td>119.0</td>\n",
       "      <td>0.489</td>\n",
       "      <td>1.000</td>\n",
       "      <td>0.389</td>\n",
       "      <td>23.0</td>\n",
       "      <td>47.0</td>\n",
       "      <td>0</td>\n",
       "    </tr>\n",
       "    <tr>\n",
       "      <th>3</th>\n",
       "      <td>3</td>\n",
       "      <td>2022-03-12</td>\n",
       "      <td>22101008</td>\n",
       "      <td>1610612744</td>\n",
       "      <td>1610612749</td>\n",
       "      <td>2021</td>\n",
       "      <td>1610612744</td>\n",
       "      <td>122.0</td>\n",
       "      <td>0.484</td>\n",
       "      <td>0.933</td>\n",
       "      <td>...</td>\n",
       "      <td>33.0</td>\n",
       "      <td>55.0</td>\n",
       "      <td>1610612749</td>\n",
       "      <td>109.0</td>\n",
       "      <td>0.413</td>\n",
       "      <td>0.696</td>\n",
       "      <td>0.386</td>\n",
       "      <td>27.0</td>\n",
       "      <td>39.0</td>\n",
       "      <td>1</td>\n",
       "    </tr>\n",
       "    <tr>\n",
       "      <th>4</th>\n",
       "      <td>4</td>\n",
       "      <td>2022-03-12</td>\n",
       "      <td>22101009</td>\n",
       "      <td>1610612743</td>\n",
       "      <td>1610612761</td>\n",
       "      <td>2021</td>\n",
       "      <td>1610612743</td>\n",
       "      <td>115.0</td>\n",
       "      <td>0.551</td>\n",
       "      <td>0.750</td>\n",
       "      <td>...</td>\n",
       "      <td>32.0</td>\n",
       "      <td>39.0</td>\n",
       "      <td>1610612761</td>\n",
       "      <td>127.0</td>\n",
       "      <td>0.471</td>\n",
       "      <td>0.760</td>\n",
       "      <td>0.387</td>\n",
       "      <td>28.0</td>\n",
       "      <td>50.0</td>\n",
       "      <td>0</td>\n",
       "    </tr>\n",
       "    <tr>\n",
       "      <th>...</th>\n",
       "      <td>...</td>\n",
       "      <td>...</td>\n",
       "      <td>...</td>\n",
       "      <td>...</td>\n",
       "      <td>...</td>\n",
       "      <td>...</td>\n",
       "      <td>...</td>\n",
       "      <td>...</td>\n",
       "      <td>...</td>\n",
       "      <td>...</td>\n",
       "      <td>...</td>\n",
       "      <td>...</td>\n",
       "      <td>...</td>\n",
       "      <td>...</td>\n",
       "      <td>...</td>\n",
       "      <td>...</td>\n",
       "      <td>...</td>\n",
       "      <td>...</td>\n",
       "      <td>...</td>\n",
       "      <td>...</td>\n",
       "      <td>...</td>\n",
       "    </tr>\n",
       "    <tr>\n",
       "      <th>11987</th>\n",
       "      <td>25791</td>\n",
       "      <td>2014-10-06</td>\n",
       "      <td>11400007</td>\n",
       "      <td>1610612737</td>\n",
       "      <td>1610612740</td>\n",
       "      <td>2014</td>\n",
       "      <td>1610612737</td>\n",
       "      <td>93.0</td>\n",
       "      <td>0.419</td>\n",
       "      <td>0.821</td>\n",
       "      <td>...</td>\n",
       "      <td>24.0</td>\n",
       "      <td>50.0</td>\n",
       "      <td>1610612740</td>\n",
       "      <td>87.0</td>\n",
       "      <td>0.366</td>\n",
       "      <td>0.643</td>\n",
       "      <td>0.375</td>\n",
       "      <td>17.0</td>\n",
       "      <td>43.0</td>\n",
       "      <td>1</td>\n",
       "    </tr>\n",
       "    <tr>\n",
       "      <th>11988</th>\n",
       "      <td>25792</td>\n",
       "      <td>2014-10-06</td>\n",
       "      <td>11400004</td>\n",
       "      <td>1610612741</td>\n",
       "      <td>1610612764</td>\n",
       "      <td>2014</td>\n",
       "      <td>1610612741</td>\n",
       "      <td>81.0</td>\n",
       "      <td>0.338</td>\n",
       "      <td>0.719</td>\n",
       "      <td>...</td>\n",
       "      <td>18.0</td>\n",
       "      <td>40.0</td>\n",
       "      <td>1610612764</td>\n",
       "      <td>85.0</td>\n",
       "      <td>0.411</td>\n",
       "      <td>0.636</td>\n",
       "      <td>0.267</td>\n",
       "      <td>17.0</td>\n",
       "      <td>47.0</td>\n",
       "      <td>0</td>\n",
       "    </tr>\n",
       "    <tr>\n",
       "      <th>11989</th>\n",
       "      <td>25793</td>\n",
       "      <td>2014-10-06</td>\n",
       "      <td>11400005</td>\n",
       "      <td>1610612747</td>\n",
       "      <td>1610612743</td>\n",
       "      <td>2014</td>\n",
       "      <td>1610612747</td>\n",
       "      <td>98.0</td>\n",
       "      <td>0.448</td>\n",
       "      <td>0.682</td>\n",
       "      <td>...</td>\n",
       "      <td>29.0</td>\n",
       "      <td>45.0</td>\n",
       "      <td>1610612743</td>\n",
       "      <td>95.0</td>\n",
       "      <td>0.387</td>\n",
       "      <td>0.659</td>\n",
       "      <td>0.500</td>\n",
       "      <td>19.0</td>\n",
       "      <td>43.0</td>\n",
       "      <td>1</td>\n",
       "    </tr>\n",
       "    <tr>\n",
       "      <th>11990</th>\n",
       "      <td>25794</td>\n",
       "      <td>2014-10-05</td>\n",
       "      <td>11400002</td>\n",
       "      <td>1610612761</td>\n",
       "      <td>1610612758</td>\n",
       "      <td>2014</td>\n",
       "      <td>1610612761</td>\n",
       "      <td>99.0</td>\n",
       "      <td>0.440</td>\n",
       "      <td>0.771</td>\n",
       "      <td>...</td>\n",
       "      <td>21.0</td>\n",
       "      <td>30.0</td>\n",
       "      <td>1610612758</td>\n",
       "      <td>94.0</td>\n",
       "      <td>0.469</td>\n",
       "      <td>0.725</td>\n",
       "      <td>0.385</td>\n",
       "      <td>18.0</td>\n",
       "      <td>45.0</td>\n",
       "      <td>1</td>\n",
       "    </tr>\n",
       "    <tr>\n",
       "      <th>11991</th>\n",
       "      <td>25795</td>\n",
       "      <td>2014-10-04</td>\n",
       "      <td>11400001</td>\n",
       "      <td>1610612748</td>\n",
       "      <td>1610612740</td>\n",
       "      <td>2014</td>\n",
       "      <td>1610612748</td>\n",
       "      <td>86.0</td>\n",
       "      <td>0.431</td>\n",
       "      <td>0.679</td>\n",
       "      <td>...</td>\n",
       "      <td>18.0</td>\n",
       "      <td>42.0</td>\n",
       "      <td>1610612740</td>\n",
       "      <td>98.0</td>\n",
       "      <td>0.462</td>\n",
       "      <td>0.706</td>\n",
       "      <td>0.438</td>\n",
       "      <td>19.0</td>\n",
       "      <td>42.0</td>\n",
       "      <td>0</td>\n",
       "    </tr>\n",
       "  </tbody>\n",
       "</table>\n",
       "<p>11992 rows × 21 columns</p>\n",
       "</div>"
      ],
      "text/plain": [
       "       Unnamed: 0 GAME_DATE_EST   GAME_ID  HOME_TEAM_ID  VISITOR_TEAM_ID  \\\n",
       "0               0    2022-03-12  22101005    1610612748       1610612750   \n",
       "1               1    2022-03-12  22101006    1610612741       1610612739   \n",
       "2               2    2022-03-12  22101007    1610612759       1610612754   \n",
       "3               3    2022-03-12  22101008    1610612744       1610612749   \n",
       "4               4    2022-03-12  22101009    1610612743       1610612761   \n",
       "...           ...           ...       ...           ...              ...   \n",
       "11987       25791    2014-10-06  11400007    1610612737       1610612740   \n",
       "11988       25792    2014-10-06  11400004    1610612741       1610612764   \n",
       "11989       25793    2014-10-06  11400005    1610612747       1610612743   \n",
       "11990       25794    2014-10-05  11400002    1610612761       1610612758   \n",
       "11991       25795    2014-10-04  11400001    1610612748       1610612740   \n",
       "\n",
       "       SEASON  TEAM_ID_home  PTS_home  FG_PCT_home  FT_PCT_home  ...  \\\n",
       "0        2021    1610612748     104.0        0.398        0.760  ...   \n",
       "1        2021    1610612741     101.0        0.443        0.933  ...   \n",
       "2        2021    1610612759     108.0        0.412        0.813  ...   \n",
       "3        2021    1610612744     122.0        0.484        0.933  ...   \n",
       "4        2021    1610612743     115.0        0.551        0.750  ...   \n",
       "...       ...           ...       ...          ...          ...  ...   \n",
       "11987    2014    1610612737      93.0        0.419        0.821  ...   \n",
       "11988    2014    1610612741      81.0        0.338        0.719  ...   \n",
       "11989    2014    1610612747      98.0        0.448        0.682  ...   \n",
       "11990    2014    1610612761      99.0        0.440        0.771  ...   \n",
       "11991    2014    1610612748      86.0        0.431        0.679  ...   \n",
       "\n",
       "       AST_home  REB_home  TEAM_ID_away  PTS_away  FG_PCT_away  FT_PCT_away  \\\n",
       "0          23.0      53.0    1610612750     113.0        0.422        0.875   \n",
       "1          20.0      46.0    1610612739      91.0        0.419        0.824   \n",
       "2          28.0      52.0    1610612754     119.0        0.489        1.000   \n",
       "3          33.0      55.0    1610612749     109.0        0.413        0.696   \n",
       "4          32.0      39.0    1610612761     127.0        0.471        0.760   \n",
       "...         ...       ...           ...       ...          ...          ...   \n",
       "11987      24.0      50.0    1610612740      87.0        0.366        0.643   \n",
       "11988      18.0      40.0    1610612764      85.0        0.411        0.636   \n",
       "11989      29.0      45.0    1610612743      95.0        0.387        0.659   \n",
       "11990      21.0      30.0    1610612758      94.0        0.469        0.725   \n",
       "11991      18.0      42.0    1610612740      98.0        0.462        0.706   \n",
       "\n",
       "       FG3_PCT_away  AST_away  REB_away  HOME_TEAM_WINS  \n",
       "0             0.357      21.0      46.0               0  \n",
       "1             0.208      19.0      40.0               1  \n",
       "2             0.389      23.0      47.0               0  \n",
       "3             0.386      27.0      39.0               1  \n",
       "4             0.387      28.0      50.0               0  \n",
       "...             ...       ...       ...             ...  \n",
       "11987         0.375      17.0      43.0               1  \n",
       "11988         0.267      17.0      47.0               0  \n",
       "11989         0.500      19.0      43.0               1  \n",
       "11990         0.385      18.0      45.0               1  \n",
       "11991         0.438      19.0      42.0               0  \n",
       "\n",
       "[11992 rows x 21 columns]"
      ]
     },
     "execution_count": 3,
     "metadata": {},
     "output_type": "execute_result"
    }
   ],
   "source": [
    "games = pd.read_csv(r\"C:\\Users\\kyrie\\ironhack-Final-Project\\final_project\\cleangames.csv\")\n",
    "games"
   ]
  },
  {
   "cell_type": "code",
   "execution_count": 4,
   "metadata": {},
   "outputs": [
    {
     "data": {
      "text/html": [
       "<div>\n",
       "<style scoped>\n",
       "    .dataframe tbody tr th:only-of-type {\n",
       "        vertical-align: middle;\n",
       "    }\n",
       "\n",
       "    .dataframe tbody tr th {\n",
       "        vertical-align: top;\n",
       "    }\n",
       "\n",
       "    .dataframe thead th {\n",
       "        text-align: right;\n",
       "    }\n",
       "</style>\n",
       "<table border=\"1\" class=\"dataframe\">\n",
       "  <thead>\n",
       "    <tr style=\"text-align: right;\">\n",
       "      <th></th>\n",
       "      <th>Unnamed: 0</th>\n",
       "      <th>GAME_ID</th>\n",
       "      <th>TEAM_ID</th>\n",
       "      <th>TEAM_CITY</th>\n",
       "      <th>PLAYER_ID</th>\n",
       "      <th>PLAYER_NAME</th>\n",
       "      <th>START_POSITION</th>\n",
       "      <th>MIN</th>\n",
       "      <th>FGM</th>\n",
       "      <th>FGA</th>\n",
       "      <th>...</th>\n",
       "      <th>FT_PCT</th>\n",
       "      <th>OREB</th>\n",
       "      <th>DREB</th>\n",
       "      <th>REB</th>\n",
       "      <th>AST</th>\n",
       "      <th>STL</th>\n",
       "      <th>BLK</th>\n",
       "      <th>TO</th>\n",
       "      <th>PTS</th>\n",
       "      <th>PLUS_MINUS</th>\n",
       "    </tr>\n",
       "  </thead>\n",
       "  <tbody>\n",
       "    <tr>\n",
       "      <th>0</th>\n",
       "      <td>72</td>\n",
       "      <td>22101008</td>\n",
       "      <td>1610612749</td>\n",
       "      <td>Milwaukee</td>\n",
       "      <td>203507</td>\n",
       "      <td>Giannis Antetokounmpo</td>\n",
       "      <td>F</td>\n",
       "      <td>34.0</td>\n",
       "      <td>9.0</td>\n",
       "      <td>17.0</td>\n",
       "      <td>...</td>\n",
       "      <td>0.667</td>\n",
       "      <td>1.0</td>\n",
       "      <td>7.0</td>\n",
       "      <td>8.0</td>\n",
       "      <td>3.0</td>\n",
       "      <td>0.0</td>\n",
       "      <td>1.0</td>\n",
       "      <td>1.0</td>\n",
       "      <td>31.0</td>\n",
       "      <td>-26.000000</td>\n",
       "    </tr>\n",
       "    <tr>\n",
       "      <th>1</th>\n",
       "      <td>555</td>\n",
       "      <td>22100984</td>\n",
       "      <td>1610612749</td>\n",
       "      <td>Milwaukee</td>\n",
       "      <td>203507</td>\n",
       "      <td>Giannis Antetokounmpo</td>\n",
       "      <td>F</td>\n",
       "      <td>37.0</td>\n",
       "      <td>15.0</td>\n",
       "      <td>22.0</td>\n",
       "      <td>...</td>\n",
       "      <td>0.706</td>\n",
       "      <td>3.0</td>\n",
       "      <td>9.0</td>\n",
       "      <td>12.0</td>\n",
       "      <td>5.0</td>\n",
       "      <td>1.0</td>\n",
       "      <td>0.0</td>\n",
       "      <td>2.0</td>\n",
       "      <td>43.0</td>\n",
       "      <td>3.000000</td>\n",
       "    </tr>\n",
       "    <tr>\n",
       "      <th>2</th>\n",
       "      <td>859</td>\n",
       "      <td>22100979</td>\n",
       "      <td>1610612749</td>\n",
       "      <td>Milwaukee</td>\n",
       "      <td>203507</td>\n",
       "      <td>Giannis Antetokounmpo</td>\n",
       "      <td>F</td>\n",
       "      <td>27.0</td>\n",
       "      <td>13.0</td>\n",
       "      <td>19.0</td>\n",
       "      <td>...</td>\n",
       "      <td>0.692</td>\n",
       "      <td>1.0</td>\n",
       "      <td>6.0</td>\n",
       "      <td>7.0</td>\n",
       "      <td>7.0</td>\n",
       "      <td>3.0</td>\n",
       "      <td>1.0</td>\n",
       "      <td>1.0</td>\n",
       "      <td>39.0</td>\n",
       "      <td>18.000000</td>\n",
       "    </tr>\n",
       "    <tr>\n",
       "      <th>3</th>\n",
       "      <td>1144</td>\n",
       "      <td>22100961</td>\n",
       "      <td>1610612749</td>\n",
       "      <td>Milwaukee</td>\n",
       "      <td>203507</td>\n",
       "      <td>Giannis Antetokounmpo</td>\n",
       "      <td>F</td>\n",
       "      <td>31.0</td>\n",
       "      <td>8.0</td>\n",
       "      <td>13.0</td>\n",
       "      <td>...</td>\n",
       "      <td>0.500</td>\n",
       "      <td>3.0</td>\n",
       "      <td>10.0</td>\n",
       "      <td>13.0</td>\n",
       "      <td>6.0</td>\n",
       "      <td>1.0</td>\n",
       "      <td>3.0</td>\n",
       "      <td>3.0</td>\n",
       "      <td>19.0</td>\n",
       "      <td>-8.000000</td>\n",
       "    </tr>\n",
       "    <tr>\n",
       "      <th>4</th>\n",
       "      <td>1556</td>\n",
       "      <td>22100949</td>\n",
       "      <td>1610612749</td>\n",
       "      <td>Milwaukee</td>\n",
       "      <td>203507</td>\n",
       "      <td>Giannis Antetokounmpo</td>\n",
       "      <td>F</td>\n",
       "      <td>38.0</td>\n",
       "      <td>12.0</td>\n",
       "      <td>22.0</td>\n",
       "      <td>...</td>\n",
       "      <td>0.526</td>\n",
       "      <td>4.0</td>\n",
       "      <td>12.0</td>\n",
       "      <td>16.0</td>\n",
       "      <td>5.0</td>\n",
       "      <td>2.0</td>\n",
       "      <td>1.0</td>\n",
       "      <td>4.0</td>\n",
       "      <td>34.0</td>\n",
       "      <td>15.000000</td>\n",
       "    </tr>\n",
       "    <tr>\n",
       "      <th>...</th>\n",
       "      <td>...</td>\n",
       "      <td>...</td>\n",
       "      <td>...</td>\n",
       "      <td>...</td>\n",
       "      <td>...</td>\n",
       "      <td>...</td>\n",
       "      <td>...</td>\n",
       "      <td>...</td>\n",
       "      <td>...</td>\n",
       "      <td>...</td>\n",
       "      <td>...</td>\n",
       "      <td>...</td>\n",
       "      <td>...</td>\n",
       "      <td>...</td>\n",
       "      <td>...</td>\n",
       "      <td>...</td>\n",
       "      <td>...</td>\n",
       "      <td>...</td>\n",
       "      <td>...</td>\n",
       "      <td>...</td>\n",
       "      <td>...</td>\n",
       "    </tr>\n",
       "    <tr>\n",
       "      <th>747</th>\n",
       "      <td>607784</td>\n",
       "      <td>11300086</td>\n",
       "      <td>1610612749</td>\n",
       "      <td>Milwaukee</td>\n",
       "      <td>203507</td>\n",
       "      <td>Giannis Antetokounmpo</td>\n",
       "      <td>F</td>\n",
       "      <td>27.0</td>\n",
       "      <td>1.0</td>\n",
       "      <td>5.0</td>\n",
       "      <td>...</td>\n",
       "      <td>0.667</td>\n",
       "      <td>1.0</td>\n",
       "      <td>5.0</td>\n",
       "      <td>6.0</td>\n",
       "      <td>1.0</td>\n",
       "      <td>2.0</td>\n",
       "      <td>2.0</td>\n",
       "      <td>1.0</td>\n",
       "      <td>6.0</td>\n",
       "      <td>3.065684</td>\n",
       "    </tr>\n",
       "    <tr>\n",
       "      <th>748</th>\n",
       "      <td>608563</td>\n",
       "      <td>11300053</td>\n",
       "      <td>1610612749</td>\n",
       "      <td>Milwaukee</td>\n",
       "      <td>203507</td>\n",
       "      <td>Giannis Antetokounmpo</td>\n",
       "      <td>F</td>\n",
       "      <td>19.0</td>\n",
       "      <td>2.0</td>\n",
       "      <td>3.0</td>\n",
       "      <td>...</td>\n",
       "      <td>1.000</td>\n",
       "      <td>1.0</td>\n",
       "      <td>2.0</td>\n",
       "      <td>3.0</td>\n",
       "      <td>0.0</td>\n",
       "      <td>1.0</td>\n",
       "      <td>0.0</td>\n",
       "      <td>0.0</td>\n",
       "      <td>8.0</td>\n",
       "      <td>3.065684</td>\n",
       "    </tr>\n",
       "    <tr>\n",
       "      <th>749</th>\n",
       "      <td>608914</td>\n",
       "      <td>11300042</td>\n",
       "      <td>1610612749</td>\n",
       "      <td>Milwaukee</td>\n",
       "      <td>203507</td>\n",
       "      <td>Giannis Antetokounmpo</td>\n",
       "      <td>F</td>\n",
       "      <td>14.0</td>\n",
       "      <td>1.0</td>\n",
       "      <td>2.0</td>\n",
       "      <td>...</td>\n",
       "      <td>0.000</td>\n",
       "      <td>1.0</td>\n",
       "      <td>4.0</td>\n",
       "      <td>5.0</td>\n",
       "      <td>2.0</td>\n",
       "      <td>0.0</td>\n",
       "      <td>1.0</td>\n",
       "      <td>0.0</td>\n",
       "      <td>2.0</td>\n",
       "      <td>3.065684</td>\n",
       "    </tr>\n",
       "    <tr>\n",
       "      <th>750</th>\n",
       "      <td>609195</td>\n",
       "      <td>11300028</td>\n",
       "      <td>1610612749</td>\n",
       "      <td>Milwaukee</td>\n",
       "      <td>203507</td>\n",
       "      <td>Giannis Antetokounmpo</td>\n",
       "      <td>F</td>\n",
       "      <td>28.0</td>\n",
       "      <td>1.0</td>\n",
       "      <td>6.0</td>\n",
       "      <td>...</td>\n",
       "      <td>1.000</td>\n",
       "      <td>0.0</td>\n",
       "      <td>7.0</td>\n",
       "      <td>7.0</td>\n",
       "      <td>0.0</td>\n",
       "      <td>1.0</td>\n",
       "      <td>4.0</td>\n",
       "      <td>7.0</td>\n",
       "      <td>4.0</td>\n",
       "      <td>3.065684</td>\n",
       "    </tr>\n",
       "    <tr>\n",
       "      <th>751</th>\n",
       "      <td>609482</td>\n",
       "      <td>11300016</td>\n",
       "      <td>1610612749</td>\n",
       "      <td>Milwaukee</td>\n",
       "      <td>203507</td>\n",
       "      <td>Giannis Antetokounmpo</td>\n",
       "      <td>F</td>\n",
       "      <td>29.0</td>\n",
       "      <td>3.0</td>\n",
       "      <td>7.0</td>\n",
       "      <td>...</td>\n",
       "      <td>0.700</td>\n",
       "      <td>0.0</td>\n",
       "      <td>4.0</td>\n",
       "      <td>4.0</td>\n",
       "      <td>2.0</td>\n",
       "      <td>2.0</td>\n",
       "      <td>3.0</td>\n",
       "      <td>5.0</td>\n",
       "      <td>14.0</td>\n",
       "      <td>3.065684</td>\n",
       "    </tr>\n",
       "  </tbody>\n",
       "</table>\n",
       "<p>752 rows × 26 columns</p>\n",
       "</div>"
      ],
      "text/plain": [
       "     Unnamed: 0   GAME_ID     TEAM_ID  TEAM_CITY  PLAYER_ID  \\\n",
       "0            72  22101008  1610612749  Milwaukee     203507   \n",
       "1           555  22100984  1610612749  Milwaukee     203507   \n",
       "2           859  22100979  1610612749  Milwaukee     203507   \n",
       "3          1144  22100961  1610612749  Milwaukee     203507   \n",
       "4          1556  22100949  1610612749  Milwaukee     203507   \n",
       "..          ...       ...         ...        ...        ...   \n",
       "747      607784  11300086  1610612749  Milwaukee     203507   \n",
       "748      608563  11300053  1610612749  Milwaukee     203507   \n",
       "749      608914  11300042  1610612749  Milwaukee     203507   \n",
       "750      609195  11300028  1610612749  Milwaukee     203507   \n",
       "751      609482  11300016  1610612749  Milwaukee     203507   \n",
       "\n",
       "               PLAYER_NAME START_POSITION   MIN   FGM   FGA  ...  FT_PCT  \\\n",
       "0    Giannis Antetokounmpo              F  34.0   9.0  17.0  ...   0.667   \n",
       "1    Giannis Antetokounmpo              F  37.0  15.0  22.0  ...   0.706   \n",
       "2    Giannis Antetokounmpo              F  27.0  13.0  19.0  ...   0.692   \n",
       "3    Giannis Antetokounmpo              F  31.0   8.0  13.0  ...   0.500   \n",
       "4    Giannis Antetokounmpo              F  38.0  12.0  22.0  ...   0.526   \n",
       "..                     ...            ...   ...   ...   ...  ...     ...   \n",
       "747  Giannis Antetokounmpo              F  27.0   1.0   5.0  ...   0.667   \n",
       "748  Giannis Antetokounmpo              F  19.0   2.0   3.0  ...   1.000   \n",
       "749  Giannis Antetokounmpo              F  14.0   1.0   2.0  ...   0.000   \n",
       "750  Giannis Antetokounmpo              F  28.0   1.0   6.0  ...   1.000   \n",
       "751  Giannis Antetokounmpo              F  29.0   3.0   7.0  ...   0.700   \n",
       "\n",
       "     OREB  DREB   REB  AST  STL  BLK   TO   PTS  PLUS_MINUS  \n",
       "0     1.0   7.0   8.0  3.0  0.0  1.0  1.0  31.0  -26.000000  \n",
       "1     3.0   9.0  12.0  5.0  1.0  0.0  2.0  43.0    3.000000  \n",
       "2     1.0   6.0   7.0  7.0  3.0  1.0  1.0  39.0   18.000000  \n",
       "3     3.0  10.0  13.0  6.0  1.0  3.0  3.0  19.0   -8.000000  \n",
       "4     4.0  12.0  16.0  5.0  2.0  1.0  4.0  34.0   15.000000  \n",
       "..    ...   ...   ...  ...  ...  ...  ...   ...         ...  \n",
       "747   1.0   5.0   6.0  1.0  2.0  2.0  1.0   6.0    3.065684  \n",
       "748   1.0   2.0   3.0  0.0  1.0  0.0  0.0   8.0    3.065684  \n",
       "749   1.0   4.0   5.0  2.0  0.0  1.0  0.0   2.0    3.065684  \n",
       "750   0.0   7.0   7.0  0.0  1.0  4.0  7.0   4.0    3.065684  \n",
       "751   0.0   4.0   4.0  2.0  2.0  3.0  5.0  14.0    3.065684  \n",
       "\n",
       "[752 rows x 26 columns]"
      ]
     },
     "execution_count": 4,
     "metadata": {},
     "output_type": "execute_result"
    }
   ],
   "source": [
    "giannis = pd.read_csv(r\"C:\\Users\\kyrie\\ironhack-Final-Project\\final_project\\giannis.csv\")\n",
    "giannis"
   ]
  },
  {
   "cell_type": "code",
   "execution_count": 5,
   "metadata": {},
   "outputs": [
    {
     "data": {
      "text/html": [
       "<div>\n",
       "<style scoped>\n",
       "    .dataframe tbody tr th:only-of-type {\n",
       "        vertical-align: middle;\n",
       "    }\n",
       "\n",
       "    .dataframe tbody tr th {\n",
       "        vertical-align: top;\n",
       "    }\n",
       "\n",
       "    .dataframe thead th {\n",
       "        text-align: right;\n",
       "    }\n",
       "</style>\n",
       "<table border=\"1\" class=\"dataframe\">\n",
       "  <thead>\n",
       "    <tr style=\"text-align: right;\">\n",
       "      <th></th>\n",
       "      <th>Unnamed: 0_x</th>\n",
       "      <th>GAME_DATE_EST</th>\n",
       "      <th>GAME_ID</th>\n",
       "      <th>HOME_TEAM_ID</th>\n",
       "      <th>VISITOR_TEAM_ID</th>\n",
       "      <th>SEASON</th>\n",
       "      <th>TEAM_ID_home</th>\n",
       "      <th>PTS_home</th>\n",
       "      <th>FG_PCT_home</th>\n",
       "      <th>FT_PCT_home</th>\n",
       "      <th>...</th>\n",
       "      <th>FT_PCT</th>\n",
       "      <th>OREB</th>\n",
       "      <th>DREB</th>\n",
       "      <th>REB</th>\n",
       "      <th>AST</th>\n",
       "      <th>STL</th>\n",
       "      <th>BLK</th>\n",
       "      <th>TO</th>\n",
       "      <th>PTS</th>\n",
       "      <th>PLUS_MINUS</th>\n",
       "    </tr>\n",
       "  </thead>\n",
       "  <tbody>\n",
       "    <tr>\n",
       "      <th>0</th>\n",
       "      <td>3</td>\n",
       "      <td>2022-03-12</td>\n",
       "      <td>22101008</td>\n",
       "      <td>1610612744</td>\n",
       "      <td>1610612749</td>\n",
       "      <td>2021</td>\n",
       "      <td>1610612744</td>\n",
       "      <td>122.0</td>\n",
       "      <td>0.484</td>\n",
       "      <td>0.933</td>\n",
       "      <td>...</td>\n",
       "      <td>0.667</td>\n",
       "      <td>1.0</td>\n",
       "      <td>7.0</td>\n",
       "      <td>8.0</td>\n",
       "      <td>3.0</td>\n",
       "      <td>0.0</td>\n",
       "      <td>1.0</td>\n",
       "      <td>1.0</td>\n",
       "      <td>31.0</td>\n",
       "      <td>-26.0</td>\n",
       "    </tr>\n",
       "    <tr>\n",
       "      <th>1</th>\n",
       "      <td>22</td>\n",
       "      <td>2022-03-09</td>\n",
       "      <td>22100984</td>\n",
       "      <td>1610612749</td>\n",
       "      <td>1610612737</td>\n",
       "      <td>2021</td>\n",
       "      <td>1610612749</td>\n",
       "      <td>124.0</td>\n",
       "      <td>0.500</td>\n",
       "      <td>0.783</td>\n",
       "      <td>...</td>\n",
       "      <td>0.706</td>\n",
       "      <td>3.0</td>\n",
       "      <td>9.0</td>\n",
       "      <td>12.0</td>\n",
       "      <td>5.0</td>\n",
       "      <td>1.0</td>\n",
       "      <td>0.0</td>\n",
       "      <td>2.0</td>\n",
       "      <td>43.0</td>\n",
       "      <td>3.0</td>\n",
       "    </tr>\n",
       "    <tr>\n",
       "      <th>2</th>\n",
       "      <td>35</td>\n",
       "      <td>2022-03-08</td>\n",
       "      <td>22100979</td>\n",
       "      <td>1610612760</td>\n",
       "      <td>1610612749</td>\n",
       "      <td>2021</td>\n",
       "      <td>1610612760</td>\n",
       "      <td>115.0</td>\n",
       "      <td>0.500</td>\n",
       "      <td>0.714</td>\n",
       "      <td>...</td>\n",
       "      <td>0.692</td>\n",
       "      <td>1.0</td>\n",
       "      <td>6.0</td>\n",
       "      <td>7.0</td>\n",
       "      <td>7.0</td>\n",
       "      <td>3.0</td>\n",
       "      <td>1.0</td>\n",
       "      <td>1.0</td>\n",
       "      <td>39.0</td>\n",
       "      <td>18.0</td>\n",
       "    </tr>\n",
       "    <tr>\n",
       "      <th>3</th>\n",
       "      <td>46</td>\n",
       "      <td>2022-03-06</td>\n",
       "      <td>22100961</td>\n",
       "      <td>1610612749</td>\n",
       "      <td>1610612756</td>\n",
       "      <td>2021</td>\n",
       "      <td>1610612749</td>\n",
       "      <td>132.0</td>\n",
       "      <td>0.540</td>\n",
       "      <td>0.793</td>\n",
       "      <td>...</td>\n",
       "      <td>0.500</td>\n",
       "      <td>3.0</td>\n",
       "      <td>10.0</td>\n",
       "      <td>13.0</td>\n",
       "      <td>6.0</td>\n",
       "      <td>1.0</td>\n",
       "      <td>3.0</td>\n",
       "      <td>3.0</td>\n",
       "      <td>19.0</td>\n",
       "      <td>-8.0</td>\n",
       "    </tr>\n",
       "    <tr>\n",
       "      <th>4</th>\n",
       "      <td>63</td>\n",
       "      <td>2022-03-04</td>\n",
       "      <td>22100949</td>\n",
       "      <td>1610612741</td>\n",
       "      <td>1610612749</td>\n",
       "      <td>2021</td>\n",
       "      <td>1610612741</td>\n",
       "      <td>112.0</td>\n",
       "      <td>0.500</td>\n",
       "      <td>0.727</td>\n",
       "      <td>...</td>\n",
       "      <td>0.526</td>\n",
       "      <td>4.0</td>\n",
       "      <td>12.0</td>\n",
       "      <td>16.0</td>\n",
       "      <td>5.0</td>\n",
       "      <td>2.0</td>\n",
       "      <td>1.0</td>\n",
       "      <td>4.0</td>\n",
       "      <td>34.0</td>\n",
       "      <td>15.0</td>\n",
       "    </tr>\n",
       "    <tr>\n",
       "      <th>...</th>\n",
       "      <td>...</td>\n",
       "      <td>...</td>\n",
       "      <td>...</td>\n",
       "      <td>...</td>\n",
       "      <td>...</td>\n",
       "      <td>...</td>\n",
       "      <td>...</td>\n",
       "      <td>...</td>\n",
       "      <td>...</td>\n",
       "      <td>...</td>\n",
       "      <td>...</td>\n",
       "      <td>...</td>\n",
       "      <td>...</td>\n",
       "      <td>...</td>\n",
       "      <td>...</td>\n",
       "      <td>...</td>\n",
       "      <td>...</td>\n",
       "      <td>...</td>\n",
       "      <td>...</td>\n",
       "      <td>...</td>\n",
       "      <td>...</td>\n",
       "    </tr>\n",
       "    <tr>\n",
       "      <th>750</th>\n",
       "      <td>25735</td>\n",
       "      <td>2014-10-17</td>\n",
       "      <td>11400068</td>\n",
       "      <td>1610612750</td>\n",
       "      <td>1610612749</td>\n",
       "      <td>2014</td>\n",
       "      <td>1610612750</td>\n",
       "      <td>98.0</td>\n",
       "      <td>0.422</td>\n",
       "      <td>0.719</td>\n",
       "      <td>...</td>\n",
       "      <td>1.000</td>\n",
       "      <td>3.0</td>\n",
       "      <td>6.0</td>\n",
       "      <td>9.0</td>\n",
       "      <td>2.0</td>\n",
       "      <td>1.0</td>\n",
       "      <td>2.0</td>\n",
       "      <td>2.0</td>\n",
       "      <td>19.0</td>\n",
       "      <td>4.0</td>\n",
       "    </tr>\n",
       "    <tr>\n",
       "      <th>751</th>\n",
       "      <td>25750</td>\n",
       "      <td>2014-10-14</td>\n",
       "      <td>11400049</td>\n",
       "      <td>1610612739</td>\n",
       "      <td>1610612749</td>\n",
       "      <td>2014</td>\n",
       "      <td>1610612739</td>\n",
       "      <td>106.0</td>\n",
       "      <td>0.453</td>\n",
       "      <td>0.893</td>\n",
       "      <td>...</td>\n",
       "      <td>1.000</td>\n",
       "      <td>0.0</td>\n",
       "      <td>4.0</td>\n",
       "      <td>4.0</td>\n",
       "      <td>0.0</td>\n",
       "      <td>0.0</td>\n",
       "      <td>1.0</td>\n",
       "      <td>1.0</td>\n",
       "      <td>4.0</td>\n",
       "      <td>-5.0</td>\n",
       "    </tr>\n",
       "    <tr>\n",
       "      <th>752</th>\n",
       "      <td>25767</td>\n",
       "      <td>2014-10-11</td>\n",
       "      <td>11400037</td>\n",
       "      <td>1610612749</td>\n",
       "      <td>1610612741</td>\n",
       "      <td>2014</td>\n",
       "      <td>1610612749</td>\n",
       "      <td>85.0</td>\n",
       "      <td>0.353</td>\n",
       "      <td>0.700</td>\n",
       "      <td>...</td>\n",
       "      <td>0.500</td>\n",
       "      <td>0.0</td>\n",
       "      <td>6.0</td>\n",
       "      <td>6.0</td>\n",
       "      <td>1.0</td>\n",
       "      <td>1.0</td>\n",
       "      <td>2.0</td>\n",
       "      <td>3.0</td>\n",
       "      <td>11.0</td>\n",
       "      <td>4.0</td>\n",
       "    </tr>\n",
       "    <tr>\n",
       "      <th>753</th>\n",
       "      <td>25774</td>\n",
       "      <td>2014-10-09</td>\n",
       "      <td>11400025</td>\n",
       "      <td>1610612765</td>\n",
       "      <td>1610612749</td>\n",
       "      <td>2014</td>\n",
       "      <td>1610612765</td>\n",
       "      <td>94.0</td>\n",
       "      <td>0.383</td>\n",
       "      <td>0.711</td>\n",
       "      <td>...</td>\n",
       "      <td>0.000</td>\n",
       "      <td>0.0</td>\n",
       "      <td>7.0</td>\n",
       "      <td>7.0</td>\n",
       "      <td>0.0</td>\n",
       "      <td>0.0</td>\n",
       "      <td>0.0</td>\n",
       "      <td>1.0</td>\n",
       "      <td>6.0</td>\n",
       "      <td>-12.0</td>\n",
       "    </tr>\n",
       "    <tr>\n",
       "      <th>754</th>\n",
       "      <td>25781</td>\n",
       "      <td>2014-10-08</td>\n",
       "      <td>11400017</td>\n",
       "      <td>1610612749</td>\n",
       "      <td>1610612763</td>\n",
       "      <td>2014</td>\n",
       "      <td>1610612749</td>\n",
       "      <td>86.0</td>\n",
       "      <td>0.413</td>\n",
       "      <td>0.636</td>\n",
       "      <td>...</td>\n",
       "      <td>1.000</td>\n",
       "      <td>0.0</td>\n",
       "      <td>5.0</td>\n",
       "      <td>5.0</td>\n",
       "      <td>5.0</td>\n",
       "      <td>0.0</td>\n",
       "      <td>1.0</td>\n",
       "      <td>1.0</td>\n",
       "      <td>8.0</td>\n",
       "      <td>12.0</td>\n",
       "    </tr>\n",
       "  </tbody>\n",
       "</table>\n",
       "<p>755 rows × 46 columns</p>\n",
       "</div>"
      ],
      "text/plain": [
       "     Unnamed: 0_x GAME_DATE_EST   GAME_ID  HOME_TEAM_ID  VISITOR_TEAM_ID  \\\n",
       "0               3    2022-03-12  22101008    1610612744       1610612749   \n",
       "1              22    2022-03-09  22100984    1610612749       1610612737   \n",
       "2              35    2022-03-08  22100979    1610612760       1610612749   \n",
       "3              46    2022-03-06  22100961    1610612749       1610612756   \n",
       "4              63    2022-03-04  22100949    1610612741       1610612749   \n",
       "..            ...           ...       ...           ...              ...   \n",
       "750         25735    2014-10-17  11400068    1610612750       1610612749   \n",
       "751         25750    2014-10-14  11400049    1610612739       1610612749   \n",
       "752         25767    2014-10-11  11400037    1610612749       1610612741   \n",
       "753         25774    2014-10-09  11400025    1610612765       1610612749   \n",
       "754         25781    2014-10-08  11400017    1610612749       1610612763   \n",
       "\n",
       "     SEASON  TEAM_ID_home  PTS_home  FG_PCT_home  FT_PCT_home  ...  FT_PCT  \\\n",
       "0      2021    1610612744     122.0        0.484        0.933  ...   0.667   \n",
       "1      2021    1610612749     124.0        0.500        0.783  ...   0.706   \n",
       "2      2021    1610612760     115.0        0.500        0.714  ...   0.692   \n",
       "3      2021    1610612749     132.0        0.540        0.793  ...   0.500   \n",
       "4      2021    1610612741     112.0        0.500        0.727  ...   0.526   \n",
       "..      ...           ...       ...          ...          ...  ...     ...   \n",
       "750    2014    1610612750      98.0        0.422        0.719  ...   1.000   \n",
       "751    2014    1610612739     106.0        0.453        0.893  ...   1.000   \n",
       "752    2014    1610612749      85.0        0.353        0.700  ...   0.500   \n",
       "753    2014    1610612765      94.0        0.383        0.711  ...   0.000   \n",
       "754    2014    1610612749      86.0        0.413        0.636  ...   1.000   \n",
       "\n",
       "     OREB  DREB   REB  AST  STL  BLK   TO   PTS  PLUS_MINUS  \n",
       "0     1.0   7.0   8.0  3.0  0.0  1.0  1.0  31.0       -26.0  \n",
       "1     3.0   9.0  12.0  5.0  1.0  0.0  2.0  43.0         3.0  \n",
       "2     1.0   6.0   7.0  7.0  3.0  1.0  1.0  39.0        18.0  \n",
       "3     3.0  10.0  13.0  6.0  1.0  3.0  3.0  19.0        -8.0  \n",
       "4     4.0  12.0  16.0  5.0  2.0  1.0  4.0  34.0        15.0  \n",
       "..    ...   ...   ...  ...  ...  ...  ...   ...         ...  \n",
       "750   3.0   6.0   9.0  2.0  1.0  2.0  2.0  19.0         4.0  \n",
       "751   0.0   4.0   4.0  0.0  0.0  1.0  1.0   4.0        -5.0  \n",
       "752   0.0   6.0   6.0  1.0  1.0  2.0  3.0  11.0         4.0  \n",
       "753   0.0   7.0   7.0  0.0  0.0  0.0  1.0   6.0       -12.0  \n",
       "754   0.0   5.0   5.0  5.0  0.0  1.0  1.0   8.0        12.0  \n",
       "\n",
       "[755 rows x 46 columns]"
      ]
     },
     "execution_count": 5,
     "metadata": {},
     "output_type": "execute_result"
    }
   ],
   "source": [
    "df = pd.merge(games, giannis, how='inner', on = 'GAME_ID')\n",
    "df"
   ]
  },
  {
   "cell_type": "code",
   "execution_count": 6,
   "metadata": {},
   "outputs": [
    {
     "data": {
      "text/plain": [
       "(755, 46)"
      ]
     },
     "execution_count": 6,
     "metadata": {},
     "output_type": "execute_result"
    }
   ],
   "source": [
    "df.shape"
   ]
  },
  {
   "cell_type": "code",
   "execution_count": 7,
   "metadata": {},
   "outputs": [
    {
     "data": {
      "text/plain": [
       "Index(['Unnamed: 0_x', 'GAME_DATE_EST', 'GAME_ID', 'HOME_TEAM_ID',\n",
       "       'VISITOR_TEAM_ID', 'SEASON', 'TEAM_ID_home', 'PTS_home', 'FG_PCT_home',\n",
       "       'FT_PCT_home', 'FG3_PCT_home', 'AST_home', 'REB_home', 'TEAM_ID_away',\n",
       "       'PTS_away', 'FG_PCT_away', 'FT_PCT_away', 'FG3_PCT_away', 'AST_away',\n",
       "       'REB_away', 'HOME_TEAM_WINS', 'Unnamed: 0_y', 'TEAM_ID', 'TEAM_CITY',\n",
       "       'PLAYER_ID', 'PLAYER_NAME', 'START_POSITION', 'MIN', 'FGM', 'FGA',\n",
       "       'FG_PCT', 'FG3M', 'FG3A', 'FG3_PCT', 'FTM', 'FTA', 'FT_PCT', 'OREB',\n",
       "       'DREB', 'REB', 'AST', 'STL', 'BLK', 'TO', 'PTS', 'PLUS_MINUS'],\n",
       "      dtype='object')"
      ]
     },
     "execution_count": 7,
     "metadata": {},
     "output_type": "execute_result"
    }
   ],
   "source": [
    "df.columns"
   ]
  },
  {
   "cell_type": "code",
   "execution_count": 8,
   "metadata": {},
   "outputs": [
    {
     "data": {
      "text/html": [
       "<div>\n",
       "<style scoped>\n",
       "    .dataframe tbody tr th:only-of-type {\n",
       "        vertical-align: middle;\n",
       "    }\n",
       "\n",
       "    .dataframe tbody tr th {\n",
       "        vertical-align: top;\n",
       "    }\n",
       "\n",
       "    .dataframe thead th {\n",
       "        text-align: right;\n",
       "    }\n",
       "</style>\n",
       "<table border=\"1\" class=\"dataframe\">\n",
       "  <thead>\n",
       "    <tr style=\"text-align: right;\">\n",
       "      <th></th>\n",
       "      <th>GAME_DATE_EST</th>\n",
       "      <th>GAME_ID</th>\n",
       "      <th>HOME_TEAM_ID</th>\n",
       "      <th>VISITOR_TEAM_ID</th>\n",
       "      <th>SEASON</th>\n",
       "      <th>PTS_home</th>\n",
       "      <th>FG_PCT_home</th>\n",
       "      <th>FT_PCT_home</th>\n",
       "      <th>FG3_PCT_home</th>\n",
       "      <th>AST_home</th>\n",
       "      <th>...</th>\n",
       "      <th>FT_PCT</th>\n",
       "      <th>OREB</th>\n",
       "      <th>DREB</th>\n",
       "      <th>REB</th>\n",
       "      <th>AST</th>\n",
       "      <th>STL</th>\n",
       "      <th>BLK</th>\n",
       "      <th>TO</th>\n",
       "      <th>PTS</th>\n",
       "      <th>PLUS_MINUS</th>\n",
       "    </tr>\n",
       "  </thead>\n",
       "  <tbody>\n",
       "    <tr>\n",
       "      <th>0</th>\n",
       "      <td>2022-03-12</td>\n",
       "      <td>22101008</td>\n",
       "      <td>1610612744</td>\n",
       "      <td>1610612749</td>\n",
       "      <td>2021</td>\n",
       "      <td>122.0</td>\n",
       "      <td>0.484</td>\n",
       "      <td>0.933</td>\n",
       "      <td>0.400</td>\n",
       "      <td>33.0</td>\n",
       "      <td>...</td>\n",
       "      <td>0.667</td>\n",
       "      <td>1.0</td>\n",
       "      <td>7.0</td>\n",
       "      <td>8.0</td>\n",
       "      <td>3.0</td>\n",
       "      <td>0.0</td>\n",
       "      <td>1.0</td>\n",
       "      <td>1.0</td>\n",
       "      <td>31.0</td>\n",
       "      <td>-26.0</td>\n",
       "    </tr>\n",
       "    <tr>\n",
       "      <th>1</th>\n",
       "      <td>2022-03-09</td>\n",
       "      <td>22100984</td>\n",
       "      <td>1610612749</td>\n",
       "      <td>1610612737</td>\n",
       "      <td>2021</td>\n",
       "      <td>124.0</td>\n",
       "      <td>0.500</td>\n",
       "      <td>0.783</td>\n",
       "      <td>0.343</td>\n",
       "      <td>24.0</td>\n",
       "      <td>...</td>\n",
       "      <td>0.706</td>\n",
       "      <td>3.0</td>\n",
       "      <td>9.0</td>\n",
       "      <td>12.0</td>\n",
       "      <td>5.0</td>\n",
       "      <td>1.0</td>\n",
       "      <td>0.0</td>\n",
       "      <td>2.0</td>\n",
       "      <td>43.0</td>\n",
       "      <td>3.0</td>\n",
       "    </tr>\n",
       "    <tr>\n",
       "      <th>2</th>\n",
       "      <td>2022-03-08</td>\n",
       "      <td>22100979</td>\n",
       "      <td>1610612760</td>\n",
       "      <td>1610612749</td>\n",
       "      <td>2021</td>\n",
       "      <td>115.0</td>\n",
       "      <td>0.500</td>\n",
       "      <td>0.714</td>\n",
       "      <td>0.410</td>\n",
       "      <td>26.0</td>\n",
       "      <td>...</td>\n",
       "      <td>0.692</td>\n",
       "      <td>1.0</td>\n",
       "      <td>6.0</td>\n",
       "      <td>7.0</td>\n",
       "      <td>7.0</td>\n",
       "      <td>3.0</td>\n",
       "      <td>1.0</td>\n",
       "      <td>1.0</td>\n",
       "      <td>39.0</td>\n",
       "      <td>18.0</td>\n",
       "    </tr>\n",
       "    <tr>\n",
       "      <th>3</th>\n",
       "      <td>2022-03-06</td>\n",
       "      <td>22100961</td>\n",
       "      <td>1610612749</td>\n",
       "      <td>1610612756</td>\n",
       "      <td>2021</td>\n",
       "      <td>132.0</td>\n",
       "      <td>0.540</td>\n",
       "      <td>0.793</td>\n",
       "      <td>0.469</td>\n",
       "      <td>31.0</td>\n",
       "      <td>...</td>\n",
       "      <td>0.500</td>\n",
       "      <td>3.0</td>\n",
       "      <td>10.0</td>\n",
       "      <td>13.0</td>\n",
       "      <td>6.0</td>\n",
       "      <td>1.0</td>\n",
       "      <td>3.0</td>\n",
       "      <td>3.0</td>\n",
       "      <td>19.0</td>\n",
       "      <td>-8.0</td>\n",
       "    </tr>\n",
       "    <tr>\n",
       "      <th>4</th>\n",
       "      <td>2022-03-04</td>\n",
       "      <td>22100949</td>\n",
       "      <td>1610612741</td>\n",
       "      <td>1610612749</td>\n",
       "      <td>2021</td>\n",
       "      <td>112.0</td>\n",
       "      <td>0.500</td>\n",
       "      <td>0.727</td>\n",
       "      <td>0.385</td>\n",
       "      <td>25.0</td>\n",
       "      <td>...</td>\n",
       "      <td>0.526</td>\n",
       "      <td>4.0</td>\n",
       "      <td>12.0</td>\n",
       "      <td>16.0</td>\n",
       "      <td>5.0</td>\n",
       "      <td>2.0</td>\n",
       "      <td>1.0</td>\n",
       "      <td>4.0</td>\n",
       "      <td>34.0</td>\n",
       "      <td>15.0</td>\n",
       "    </tr>\n",
       "  </tbody>\n",
       "</table>\n",
       "<p>5 rows × 41 columns</p>\n",
       "</div>"
      ],
      "text/plain": [
       "  GAME_DATE_EST   GAME_ID  HOME_TEAM_ID  VISITOR_TEAM_ID  SEASON  PTS_home  \\\n",
       "0    2022-03-12  22101008    1610612744       1610612749    2021     122.0   \n",
       "1    2022-03-09  22100984    1610612749       1610612737    2021     124.0   \n",
       "2    2022-03-08  22100979    1610612760       1610612749    2021     115.0   \n",
       "3    2022-03-06  22100961    1610612749       1610612756    2021     132.0   \n",
       "4    2022-03-04  22100949    1610612741       1610612749    2021     112.0   \n",
       "\n",
       "   FG_PCT_home  FT_PCT_home  FG3_PCT_home  AST_home  ...  FT_PCT  OREB  DREB  \\\n",
       "0        0.484        0.933         0.400      33.0  ...   0.667   1.0   7.0   \n",
       "1        0.500        0.783         0.343      24.0  ...   0.706   3.0   9.0   \n",
       "2        0.500        0.714         0.410      26.0  ...   0.692   1.0   6.0   \n",
       "3        0.540        0.793         0.469      31.0  ...   0.500   3.0  10.0   \n",
       "4        0.500        0.727         0.385      25.0  ...   0.526   4.0  12.0   \n",
       "\n",
       "    REB  AST  STL  BLK   TO   PTS PLUS_MINUS  \n",
       "0   8.0  3.0  0.0  1.0  1.0  31.0      -26.0  \n",
       "1  12.0  5.0  1.0  0.0  2.0  43.0        3.0  \n",
       "2   7.0  7.0  3.0  1.0  1.0  39.0       18.0  \n",
       "3  13.0  6.0  1.0  3.0  3.0  19.0       -8.0  \n",
       "4  16.0  5.0  2.0  1.0  4.0  34.0       15.0  \n",
       "\n",
       "[5 rows x 41 columns]"
      ]
     },
     "execution_count": 8,
     "metadata": {},
     "output_type": "execute_result"
    }
   ],
   "source": [
    "df = df.drop(['Unnamed: 0_x','Unnamed: 0_y','TEAM_ID_home','TEAM_ID_away','FGM'], axis=1)\n",
    "df.head()"
   ]
  },
  {
   "cell_type": "code",
   "execution_count": 9,
   "metadata": {},
   "outputs": [
    {
     "name": "stderr",
     "output_type": "stream",
     "text": [
      "C:\\Users\\kyrie\\AppData\\Local\\Temp\\ipykernel_10696\\3590733421.py:1: FutureWarning: The default value of numeric_only in DataFrame.corr is deprecated. In a future version, it will default to False. Select only valid columns or specify the value of numeric_only to silence this warning.\n",
      "  sns.heatmap(df.corr())\n"
     ]
    },
    {
     "data": {
      "text/plain": [
       "Text(0.5, 1.0, 'correlation in the dataframe')"
      ]
     },
     "execution_count": 9,
     "metadata": {},
     "output_type": "execute_result"
    },
    {
     "data": {
      "image/png": "[encoded data removed]",
      "text/plain": [
       "<Figure size 640x480 with 2 Axes>"
      ]
     },
     "metadata": {},
     "output_type": "display_data"
    }
   ],
   "source": [
    "sns.heatmap(df.corr())\n",
    "plt.title('correlation in the dataframe')"
   ]
  },
  {
   "cell_type": "markdown",
   "metadata": {},
   "source": [
    "# Giannis Antetokounmpo individuals stats"
   ]
  },
  {
   "cell_type": "code",
   "execution_count": 10,
   "metadata": {},
   "outputs": [
    {
     "data": {
      "text/plain": [
       "Text(0.5, 1.0, 'Giannis Antetokounmpo average game time per year')"
      ]
     },
     "execution_count": 10,
     "metadata": {},
     "output_type": "execute_result"
    },
    {
     "data": {
      "image/png": "[encoded data removed]",
      "text/plain": [
       "<Figure size 640x480 with 1 Axes>"
      ]
     },
     "metadata": {},
     "output_type": "display_data"
    }
   ],
   "source": [
    "df.groupby(['SEASON'])['MIN'].mean().plot.bar(cmap='viridis')\n",
    "plt.title('Giannis Antetokounmpo average game time per year')"
   ]
  },
  {
   "cell_type": "code",
   "execution_count": 11,
   "metadata": {},
   "outputs": [
    {
     "data": {
      "text/plain": [
       "Text(0.5, 1.0, 'Giannis Antetokounmpo average points per year')"
      ]
     },
     "execution_count": 11,
     "metadata": {},
     "output_type": "execute_result"
    },
    {
     "data": {
      "image/png": "[encoded data removed]",
      "text/plain": [
       "<Figure size 640x480 with 1 Axes>"
      ]
     },
     "metadata": {},
     "output_type": "display_data"
    }
   ],
   "source": [
    "df.groupby(['SEASON'])['PTS'].mean().plot.bar(cmap='viridis')\n",
    "plt.title('Giannis Antetokounmpo average points per year')"
   ]
  },
  {
   "cell_type": "code",
   "execution_count": 12,
   "metadata": {},
   "outputs": [
    {
     "data": {
      "text/plain": [
       "Text(0.5, 1.0, 'Giannis Antetokounmpo Points distribution')"
      ]
     },
     "execution_count": 12,
     "metadata": {},
     "output_type": "execute_result"
    },
    {
     "data": {
      "image/png": "[encoded data removed]",
      "text/plain": [
       "<Figure size 640x480 with 1 Axes>"
      ]
     },
     "metadata": {},
     "output_type": "display_data"
    }
   ],
   "source": [
    "ax = sns.violinplot(df['PTS'], palette = \"viridis\")\n",
    "\n",
    "plt.title('Giannis Antetokounmpo Points distribution')"
   ]
  },
  {
   "cell_type": "code",
   "execution_count": 13,
   "metadata": {},
   "outputs": [
    {
     "data": {
      "text/plain": [
       "Text(0.5, 1.0, 'Giannis Antetokounmpo average rebounds per year')"
      ]
     },
     "execution_count": 13,
     "metadata": {},
     "output_type": "execute_result"
    },
    {
     "data": {
      "image/png": "[encoded data removed]",
      "text/plain": [
       "<Figure size 640x480 with 1 Axes>"
      ]
     },
     "metadata": {},
     "output_type": "display_data"
    }
   ],
   "source": [
    "df.groupby(['SEASON'])['REB'].mean().plot.bar(cmap='viridis')\n",
    "plt.title('Giannis Antetokounmpo average rebounds per year')"
   ]
  },
  {
   "cell_type": "markdown",
   "metadata": {},
   "source": [
    "# correlation between Giannis stats and the team stats\n",
    "\n",
    "### His weight on the team"
   ]
  },
  {
   "cell_type": "code",
   "execution_count": 14,
   "metadata": {},
   "outputs": [
    {
     "name": "stderr",
     "output_type": "stream",
     "text": [
      "C:\\Users\\kyrie\\AppData\\Local\\Temp\\ipykernel_10696\\590574933.py:4: SettingWithCopyWarning: \n",
      "A value is trying to be set on a copy of a slice from a DataFrame.\n",
      "Try using .loc[row_indexer,col_indexer] = value instead\n",
      "\n",
      "See the caveats in the documentation: https://pandas.pydata.org/pandas-docs/stable/user_guide/indexing.html#returning-a-view-versus-a-copy\n",
      "  Home['colscatt'] = np.arange(len(Home))*0.05\n"
     ]
    },
    {
     "data": {
      "application/vnd.plotly.v1+json": {
       "config": {
        "plotlyServerURL": "https://plot.ly"
       },
       "data": [
        {
         "hovertemplate": "PTS=%{x}<br>PTS_home=%{y}<br>colscatt=%{marker.size}<extra></extra>",
         "legendgroup": "",
         "marker": {
          "color": "#636efa",
          "size": [
           0,
           0.05,
           0.1,
           0.15000000000000002,
           0.2,
           0.25,
           0.30000000000000004,
           0.35000000000000003,
           0.4,
           0.45,
           0.5,
           0.55,
           0.6000000000000001,
           0.65,
           0.7000000000000001,
           0.75,
           0.8,
           0.8500000000000001,
           0.9,
           0.9500000000000001,
           1,
           1.05,
           1.1,
           1.1500000000000001,
           1.2000000000000002,
           1.25,
           1.3,
           1.35,
           1.4000000000000001,
           1.4500000000000002,
           1.5,
           1.55,
           1.6,
           1.6500000000000001,
           1.7000000000000002,
           1.75,
           1.8,
           1.85,
           1.9000000000000001,
           1.9500000000000002,
           2,
           2.0500000000000003,
           2.1,
           2.15,
           2.2,
           2.25,
           2.3000000000000003,
           2.35,
           2.4000000000000004,
           2.45,
           2.5,
           2.5500000000000003,
           2.6,
           2.6500000000000004,
           2.7,
           2.75,
           2.8000000000000003,
           2.85,
           2.9000000000000004,
           2.95,
           3,
           3.0500000000000003,
           3.1,
           3.1500000000000004,
           3.2,
           3.25,
           3.3000000000000003,
           3.35,
           3.4000000000000004,
           3.45,
           3.5,
           3.5500000000000003,
           3.6,
           3.6500000000000004,
           3.7,
           3.75,
           3.8000000000000003,
           3.85,
           3.9000000000000004,
           3.95,
           4,
           4.05,
           4.1000000000000005,
           4.15,
           4.2,
           4.25,
           4.3,
           4.3500000000000005,
           4.4,
           4.45,
           4.5,
           4.55,
           4.6000000000000005,
           4.65,
           4.7,
           4.75,
           4.800000000000001,
           4.8500000000000005,
           4.9,
           4.95,
           5,
           5.050000000000001,
           5.1000000000000005,
           5.15,
           5.2,
           5.25,
           5.300000000000001,
           5.3500000000000005,
           5.4,
           5.45,
           5.5,
           5.550000000000001,
           5.6000000000000005,
           5.65,
           5.7,
           5.75,
           5.800000000000001,
           5.8500000000000005,
           5.9,
           5.95,
           6,
           6.050000000000001,
           6.1000000000000005,
           6.15,
           6.2,
           6.25,
           6.300000000000001,
           6.3500000000000005,
           6.4,
           6.45,
           6.5,
           6.550000000000001,
           6.6000000000000005,
           6.65,
           6.7,
           6.75,
           6.800000000000001,
           6.8500000000000005,
           6.9,
           6.95,
           7,
           7.050000000000001,
           7.1000000000000005,
           7.15,
           7.2,
           7.25,
           7.300000000000001,
           7.3500000000000005,
           7.4,
           7.45,
           7.5,
           7.550000000000001,
           7.6000000000000005,
           7.65,
           7.7,
           7.75,
           7.800000000000001,
           7.8500000000000005,
           7.9,
           7.95,
           8,
           8.05,
           8.1,
           8.15,
           8.200000000000001,
           8.25,
           8.3,
           8.35,
           8.4,
           8.450000000000001,
           8.5,
           8.55,
           8.6,
           8.65,
           8.700000000000001,
           8.75,
           8.8,
           8.85,
           8.9,
           8.950000000000001,
           9,
           9.05,
           9.1,
           9.15,
           9.200000000000001,
           9.25,
           9.3,
           9.35,
           9.4,
           9.450000000000001,
           9.5,
           9.55,
           9.600000000000001,
           9.65,
           9.700000000000001,
           9.75,
           9.8,
           9.850000000000001,
           9.9,
           9.950000000000001,
           10,
           10.05,
           10.100000000000001,
           10.15,
           10.200000000000001,
           10.25,
           10.3,
           10.350000000000001,
           10.4,
           10.450000000000001,
           10.5,
           10.55,
           10.600000000000001,
           10.65,
           10.700000000000001,
           10.75,
           10.8,
           10.850000000000001,
           10.9,
           10.950000000000001,
           11,
           11.05,
           11.100000000000001,
           11.15,
           11.200000000000001,
           11.25,
           11.3,
           11.350000000000001,
           11.4,
           11.450000000000001,
           11.5,
           11.55,
           11.600000000000001,
           11.65,
           11.700000000000001,
           11.75,
           11.8,
           11.850000000000001,
           11.9,
           11.950000000000001,
           12,
           12.05,
           12.100000000000001,
           12.15,
           12.200000000000001,
           12.25,
           12.3,
           12.350000000000001,
           12.4,
           12.450000000000001,
           12.5,
           12.55,
           12.600000000000001,
           12.65,
           12.700000000000001,
           12.75,
           12.8,
           12.850000000000001,
           12.9,
           12.950000000000001,
           13,
           13.05,
           13.100000000000001,
           13.15,
           13.200000000000001,
           13.25,
           13.3,
           13.350000000000001,
           13.4,
           13.450000000000001,
           13.5,
           13.55,
           13.600000000000001,
           13.65,
           13.700000000000001,
           13.75,
           13.8,
           13.850000000000001,
           13.9,
           13.950000000000001,
           14,
           14.05,
           14.100000000000001,
           14.15,
           14.200000000000001,
           14.25,
           14.3,
           14.350000000000001,
           14.4,
           14.450000000000001,
           14.5,
           14.55,
           14.600000000000001,
           14.65,
           14.700000000000001,
           14.75,
           14.8,
           14.850000000000001,
           14.9,
           14.950000000000001,
           15,
           15.05,
           15.100000000000001,
           15.15,
           15.200000000000001,
           15.25,
           15.3,
           15.350000000000001,
           15.4,
           15.450000000000001,
           15.5,
           15.55,
           15.600000000000001,
           15.65,
           15.700000000000001,
           15.75,
           15.8,
           15.850000000000001,
           15.9,
           15.950000000000001,
           16,
           16.05,
           16.1,
           16.150000000000002,
           16.2,
           16.25,
           16.3,
           16.35,
           16.400000000000002,
           16.45,
           16.5,
           16.55,
           16.6,
           16.650000000000002,
           16.7,
           16.75,
           16.8,
           16.85,
           16.900000000000002,
           16.95,
           17,
           17.05,
           17.1,
           17.150000000000002,
           17.2,
           17.25,
           17.3,
           17.35,
           17.400000000000002,
           17.45,
           17.5,
           17.55,
           17.6,
           17.650000000000002,
           17.7,
           17.75,
           17.8,
           17.85,
           17.900000000000002,
           17.95,
           18,
           18.05,
           18.1,
           18.150000000000002,
           18.2,
           18.25,
           18.3,
           18.35,
           18.400000000000002,
           18.45,
           18.5,
           18.55,
           18.6,
           18.650000000000002,
           18.7,
           18.75,
           18.8
          ],
          "sizemode": "area",
          "sizeref": 0.047,
          "symbol": "circle"
         },
         "mode": "markers",
         "name": "",
         "orientation": "v",
         "showlegend": false,
         "type": "scatter",
         "x": [
          43,
          19,
          28,
          26,
          29,
          32,
          50,
          33,
          29,
          38,
          30,
          33,
          30,
          30,
          31,
          35,
          36,
          27,
          40,
          33,
          12,
          32,
          21,
          47,
          25,
          25,
          28,
          40,
          32,
          26,
          8,
          50,
          26,
          41,
          25,
          34,
          30,
          34,
          33,
          31,
          26,
          15,
          27,
          17,
          23,
          36,
          49,
          24,
          27,
          33,
          28,
          16,
          13,
          29,
          15,
          15,
          26,
          24,
          27,
          36,
          38,
          37,
          38,
          29,
          23,
          34,
          21,
          18,
          27,
          25,
          31,
          35,
          25,
          43,
          24,
          25,
          29,
          18,
          28,
          28,
          31,
          33,
          16,
          36,
          30,
          22,
          29,
          32,
          31,
          36,
          30,
          31,
          28,
          32,
          37,
          32,
          32,
          18,
          34,
          48,
          29,
          32,
          27,
          10,
          3,
          2,
          4,
          1,
          10,
          2,
          6,
          4,
          5,
          8,
          12,
          8,
          11,
          8,
          3,
          4,
          1,
          15,
          6,
          8,
          5,
          4,
          6,
          0,
          2,
          6,
          12,
          10,
          8,
          15,
          3,
          6,
          10,
          6,
          2,
          2,
          0,
          2,
          29,
          26,
          30,
          50,
          28,
          24,
          38,
          36,
          14,
          29,
          26,
          22,
          24,
          30,
          24,
          20,
          29,
          22,
          26,
          24,
          30,
          34,
          19,
          26,
          27,
          52,
          26,
          29,
          27,
          30,
          43,
          34,
          31,
          12,
          30,
          43,
          16,
          15,
          31,
          31,
          25,
          22,
          15,
          36,
          34,
          35,
          33,
          29,
          23,
          31,
          26,
          21,
          32,
          31,
          26,
          32,
          19,
          31,
          27,
          19,
          19,
          29,
          25,
          12,
          33,
          28,
          30,
          35,
          24,
          23,
          20,
          36,
          15,
          29,
          31,
          41,
          22,
          23,
          26,
          24,
          31,
          22,
          28,
          26,
          27,
          29,
          37,
          27,
          25,
          33,
          23,
          21,
          27,
          33,
          28,
          28,
          32,
          44,
          34,
          17,
          34,
          14,
          19,
          10,
          31,
          28,
          22,
          34,
          18,
          21,
          32,
          21,
          24,
          15,
          28,
          33,
          8,
          41,
          22,
          21,
          17,
          31,
          23,
          19,
          25,
          26,
          39,
          25,
          30,
          14,
          15,
          22,
          16,
          34,
          29,
          21,
          30,
          27,
          17,
          17,
          27,
          21,
          31,
          20,
          14,
          6,
          19,
          22,
          34,
          18,
          10,
          8,
          12,
          15,
          18,
          18,
          24,
          26,
          27,
          22,
          18,
          8,
          27,
          18,
          17,
          14,
          28,
          25,
          28,
          29,
          5,
          11,
          4,
          22,
          11,
          15,
          17,
          17,
          9,
          21,
          17,
          16,
          16,
          11,
          17,
          27,
          12,
          12,
          5,
          5,
          10,
          25,
          3,
          13,
          8,
          11,
          12,
          16,
          16,
          15,
          19,
          11,
          29,
          5,
          5,
          19,
          10,
          13,
          12,
          14,
          25,
          10,
          6,
          13,
          6,
          16,
          10,
          16,
          6,
          5,
          11,
          20,
          14,
          3,
          17,
          2,
          20,
          13,
          14,
          18,
          13,
          8,
          1,
          11,
          8
         ],
         "xaxis": "x",
         "y": [
          124,
          132,
          120,
          130,
          123,
          120,
          128,
          112,
          100,
          123,
          94,
          126,
          96,
          118,
          106,
          136,
          117,
          112,
          127,
          114,
          123,
          117,
          96,
          109,
          98,
          95,
          93,
          108,
          127,
          103,
          130,
          105,
          109,
          120,
          125,
          113,
          104,
          107,
          86,
          132,
          109,
          122,
          114,
          141,
          135,
          124,
          117,
          132,
          124,
          127,
          115,
          114,
          121,
          126,
          138,
          138,
          120,
          134,
          97,
          105,
          129,
          139,
          128,
          98,
          96,
          113,
          130,
          134,
          129,
          106,
          112,
          118,
          130,
          125,
          112,
          102,
          114,
          104,
          118,
          111,
          110,
          130,
          116,
          119,
          103,
          113,
          119,
          133,
          119,
          112,
          129,
          115,
          111,
          128,
          128,
          127,
          106,
          117,
          111,
          116,
          125,
          110,
          119,
          103,
          119,
          102,
          98,
          67,
          108,
          92,
          105,
          107,
          102,
          114,
          98,
          100,
          90,
          104,
          98,
          86,
          95,
          101,
          117,
          86,
          87,
          104,
          77,
          72,
          80,
          95,
          116,
          101,
          90,
          77,
          82,
          98,
          92,
          72,
          79,
          90,
          105,
          76,
          132,
          137,
          111,
          122,
          104,
          137,
          124,
          115,
          129,
          126,
          118,
          133,
          99,
          125,
          108,
          116,
          123,
          90,
          120,
          121,
          115,
          128,
          108,
          127,
          116,
          125,
          131,
          117,
          140,
          98,
          148,
          108,
          116,
          124,
          114,
          116,
          144,
          121,
          129,
          112,
          123,
          95,
          115,
          116,
          135,
          114,
          143,
          104,
          123,
          113,
          144,
          113,
          123,
          124,
          118,
          143,
          116,
          97,
          104,
          116,
          111,
          106,
          106,
          120,
          122,
          120,
          99,
          118,
          96,
          104,
          121,
          123,
          97,
          92,
          107,
          116,
          101,
          94,
          110,
          110,
          122,
          102,
          106,
          109,
          119,
          109,
          117,
          109,
          104,
          109,
          88,
          99,
          110,
          98,
          91,
          89,
          103,
          113,
          97,
          107,
          89,
          76,
          104,
          89,
          105,
          108,
          94,
          100,
          102,
          99,
          104,
          101,
          112,
          98,
          100,
          95,
          102,
          114,
          88,
          108,
          109,
          127,
          104,
          116,
          111,
          98,
          123,
          108,
          108,
          110,
          115,
          96,
          112,
          118,
          99,
          93,
          121,
          106,
          106,
          117,
          125,
          110,
          96,
          111,
          86,
          88,
          92,
          80,
          98,
          113,
          105,
          91,
          85,
          96,
          89,
          103,
          114,
          96,
          116,
          99,
          128,
          91,
          108,
          95,
          99,
          112,
          103,
          107,
          108,
          106,
          96,
          98,
          90,
          113,
          108,
          95,
          90,
          106,
          92,
          118,
          109,
          108,
          83,
          94,
          91,
          113,
          106,
          101,
          88,
          66,
          92,
          106,
          100,
          96,
          90,
          95,
          95,
          111,
          89,
          90,
          103,
          97,
          103,
          91,
          104,
          86,
          89,
          111,
          103,
          96,
          113,
          95,
          101,
          99,
          89,
          95,
          98,
          96,
          91,
          85,
          101,
          111,
          109,
          105,
          103,
          98,
          100,
          117,
          85,
          93,
          86,
          93,
          91,
          85,
          86
         ],
         "yaxis": "y"
        }
       ],
       "layout": {
        "legend": {
         "itemsizing": "constant",
         "tracegroupgap": 0
        },
        "template": {
         "data": {
          "bar": [
           {
            "error_x": {
             "color": "#2a3f5f"
            },
            "error_y": {
             "color": "#2a3f5f"
            },
            "marker": {
             "line": {
              "color": "#E5ECF6",
              "width": 0.5
             },
             "pattern": {
              "fillmode": "overlay",
              "size": 10,
              "solidity": 0.2
             }
            },
            "type": "bar"
           }
          ],
          "barpolar": [
           {
            "marker": {
             "line": {
              "color": "#E5ECF6",
              "width": 0.5
             },
             "pattern": {
              "fillmode": "overlay",
              "size": 10,
              "solidity": 0.2
             }
            },
            "type": "barpolar"
           }
          ],
          "carpet": [
           {
            "aaxis": {
             "endlinecolor": "#2a3f5f",
             "gridcolor": "white",
             "linecolor": "white",
             "minorgridcolor": "white",
             "startlinecolor": "#2a3f5f"
            },
            "baxis": {
             "endlinecolor": "#2a3f5f",
             "gridcolor": "white",
             "linecolor": "white",
             "minorgridcolor": "white",
             "startlinecolor": "#2a3f5f"
            },
            "type": "carpet"
           }
          ],
          "choropleth": [
           {
            "colorbar": {
             "outlinewidth": 0,
             "ticks": ""
            },
            "type": "choropleth"
           }
          ],
          "contour": [
           {
            "colorbar": {
             "outlinewidth": 0,
             "ticks": ""
            },
            "colorscale": [
             [
              0,
              "#0d0887"
             ],
             [
              0.1111111111111111,
              "#46039f"
             ],
             [
              0.2222222222222222,
              "#7201a8"
             ],
             [
              0.3333333333333333,
              "#9c179e"
             ],
             [
              0.4444444444444444,
              "#bd3786"
             ],
             [
              0.5555555555555556,
              "#d8576b"
             ],
             [
              0.6666666666666666,
              "#ed7953"
             ],
             [
              0.7777777777777778,
              "#fb9f3a"
             ],
             [
              0.8888888888888888,
              "#fdca26"
             ],
             [
              1,
              "#f0f921"
             ]
            ],
            "type": "contour"
           }
          ],
          "contourcarpet": [
           {
            "colorbar": {
             "outlinewidth": 0,
             "ticks": ""
            },
            "type": "contourcarpet"
           }
          ],
          "heatmap": [
           {
            "colorbar": {
             "outlinewidth": 0,
             "ticks": ""
            },
            "colorscale": [
             [
              0,
              "#0d0887"
             ],
             [
              0.1111111111111111,
              "#46039f"
             ],
             [
              0.2222222222222222,
              "#7201a8"
             ],
             [
              0.3333333333333333,
              "#9c179e"
             ],
             [
              0.4444444444444444,
              "#bd3786"
             ],
             [
              0.5555555555555556,
              "#d8576b"
             ],
             [
              0.6666666666666666,
              "#ed7953"
             ],
             [
              0.7777777777777778,
              "#fb9f3a"
             ],
             [
              0.8888888888888888,
              "#fdca26"
             ],
             [
              1,
              "#f0f921"
             ]
            ],
            "type": "heatmap"
           }
          ],
          "heatmapgl": [
           {
            "colorbar": {
             "outlinewidth": 0,
             "ticks": ""
            },
            "colorscale": [
             [
              0,
              "#0d0887"
             ],
             [
              0.1111111111111111,
              "#46039f"
             ],
             [
              0.2222222222222222,
              "#7201a8"
             ],
             [
              0.3333333333333333,
              "#9c179e"
             ],
             [
              0.4444444444444444,
              "#bd3786"
             ],
             [
              0.5555555555555556,
              "#d8576b"
             ],
             [
              0.6666666666666666,
              "#ed7953"
             ],
             [
              0.7777777777777778,
              "#fb9f3a"
             ],
             [
              0.8888888888888888,
              "#fdca26"
             ],
             [
              1,
              "#f0f921"
             ]
            ],
            "type": "heatmapgl"
           }
          ],
          "histogram": [
           {
            "marker": {
             "pattern": {
              "fillmode": "overlay",
              "size": 10,
              "solidity": 0.2
             }
            },
            "type": "histogram"
           }
          ],
          "histogram2d": [
           {
            "colorbar": {
             "outlinewidth": 0,
             "ticks": ""
            },
            "colorscale": [
             [
              0,
              "#0d0887"
             ],
             [
              0.1111111111111111,
              "#46039f"
             ],
             [
              0.2222222222222222,
              "#7201a8"
             ],
             [
              0.3333333333333333,
              "#9c179e"
             ],
             [
              0.4444444444444444,
              "#bd3786"
             ],
             [
              0.5555555555555556,
              "#d8576b"
             ],
             [
              0.6666666666666666,
              "#ed7953"
             ],
             [
              0.7777777777777778,
              "#fb9f3a"
             ],
             [
              0.8888888888888888,
              "#fdca26"
             ],
             [
              1,
              "#f0f921"
             ]
            ],
            "type": "histogram2d"
           }
          ],
          "histogram2dcontour": [
           {
            "colorbar": {
             "outlinewidth": 0,
             "ticks": ""
            },
            "colorscale": [
             [
              0,
              "#0d0887"
             ],
             [
              0.1111111111111111,
              "#46039f"
             ],
             [
              0.2222222222222222,
              "#7201a8"
             ],
             [
              0.3333333333333333,
              "#9c179e"
             ],
             [
              0.4444444444444444,
              "#bd3786"
             ],
             [
              0.5555555555555556,
              "#d8576b"
             ],
             [
              0.6666666666666666,
              "#ed7953"
             ],
             [
              0.7777777777777778,
              "#fb9f3a"
             ],
             [
              0.8888888888888888,
              "#fdca26"
             ],
             [
              1,
              "#f0f921"
             ]
            ],
            "type": "histogram2dcontour"
           }
          ],
          "mesh3d": [
           {
            "colorbar": {
             "outlinewidth": 0,
             "ticks": ""
            },
            "type": "mesh3d"
           }
          ],
          "parcoords": [
           {
            "line": {
             "colorbar": {
              "outlinewidth": 0,
              "ticks": ""
             }
            },
            "type": "parcoords"
           }
          ],
          "pie": [
           {
            "automargin": true,
            "type": "pie"
           }
          ],
          "scatter": [
           {
            "fillpattern": {
             "fillmode": "overlay",
             "size": 10,
             "solidity": 0.2
            },
            "type": "scatter"
           }
          ],
          "scatter3d": [
           {
            "line": {
             "colorbar": {
              "outlinewidth": 0,
              "ticks": ""
             }
            },
            "marker": {
             "colorbar": {
              "outlinewidth": 0,
              "ticks": ""
             }
            },
            "type": "scatter3d"
           }
          ],
          "scattercarpet": [
           {
            "marker": {
             "colorbar": {
              "outlinewidth": 0,
              "ticks": ""
             }
            },
            "type": "scattercarpet"
           }
          ],
          "scattergeo": [
           {
            "marker": {
             "colorbar": {
              "outlinewidth": 0,
              "ticks": ""
             }
            },
            "type": "scattergeo"
           }
          ],
          "scattergl": [
           {
            "marker": {
             "colorbar": {
              "outlinewidth": 0,
              "ticks": ""
             }
            },
            "type": "scattergl"
           }
          ],
          "scattermapbox": [
           {
            "marker": {
             "colorbar": {
              "outlinewidth": 0,
              "ticks": ""
             }
            },
            "type": "scattermapbox"
           }
          ],
          "scatterpolar": [
           {
            "marker": {
             "colorbar": {
              "outlinewidth": 0,
              "ticks": ""
             }
            },
            "type": "scatterpolar"
           }
          ],
          "scatterpolargl": [
           {
            "marker": {
             "colorbar": {
              "outlinewidth": 0,
              "ticks": ""
             }
            },
            "type": "scatterpolargl"
           }
          ],
          "scatterternary": [
           {
            "marker": {
             "colorbar": {
              "outlinewidth": 0,
              "ticks": ""
             }
            },
            "type": "scatterternary"
           }
          ],
          "surface": [
           {
            "colorbar": {
             "outlinewidth": 0,
             "ticks": ""
            },
            "colorscale": [
             [
              0,
              "#0d0887"
             ],
             [
              0.1111111111111111,
              "#46039f"
             ],
             [
              0.2222222222222222,
              "#7201a8"
             ],
             [
              0.3333333333333333,
              "#9c179e"
             ],
             [
              0.4444444444444444,
              "#bd3786"
             ],
             [
              0.5555555555555556,
              "#d8576b"
             ],
             [
              0.6666666666666666,
              "#ed7953"
             ],
             [
              0.7777777777777778,
              "#fb9f3a"
             ],
             [
              0.8888888888888888,
              "#fdca26"
             ],
             [
              1,
              "#f0f921"
             ]
            ],
            "type": "surface"
           }
          ],
          "table": [
           {
            "cells": {
             "fill": {
              "color": "#EBF0F8"
             },
             "line": {
              "color": "white"
             }
            },
            "header": {
             "fill": {
              "color": "#C8D4E3"
             },
             "line": {
              "color": "white"
             }
            },
            "type": "table"
           }
          ]
         },
         "layout": {
          "annotationdefaults": {
           "arrowcolor": "#2a3f5f",
           "arrowhead": 0,
           "arrowwidth": 1
          },
          "autotypenumbers": "strict",
          "coloraxis": {
           "colorbar": {
            "outlinewidth": 0,
            "ticks": ""
           }
          },
          "colorscale": {
           "diverging": [
            [
             0,
             "#8e0152"
            ],
            [
             0.1,
             "#c51b7d"
            ],
            [
             0.2,
             "#de77ae"
            ],
            [
             0.3,
             "#f1b6da"
            ],
            [
             0.4,
             "#fde0ef"
            ],
            [
             0.5,
             "#f7f7f7"
            ],
            [
             0.6,
             "#e6f5d0"
            ],
            [
             0.7,
             "#b8e186"
            ],
            [
             0.8,
             "#7fbc41"
            ],
            [
             0.9,
             "#4d9221"
            ],
            [
             1,
             "#276419"
            ]
           ],
           "sequential": [
            [
             0,
             "#0d0887"
            ],
            [
             0.1111111111111111,
             "#46039f"
            ],
            [
             0.2222222222222222,
             "#7201a8"
            ],
            [
             0.3333333333333333,
             "#9c179e"
            ],
            [
             0.4444444444444444,
             "#bd3786"
            ],
            [
             0.5555555555555556,
             "#d8576b"
            ],
            [
             0.6666666666666666,
             "#ed7953"
            ],
            [
             0.7777777777777778,
             "#fb9f3a"
            ],
            [
             0.8888888888888888,
             "#fdca26"
            ],
            [
             1,
             "#f0f921"
            ]
           ],
           "sequentialminus": [
            [
             0,
             "#0d0887"
            ],
            [
             0.1111111111111111,
             "#46039f"
            ],
            [
             0.2222222222222222,
             "#7201a8"
            ],
            [
             0.3333333333333333,
             "#9c179e"
            ],
            [
             0.4444444444444444,
             "#bd3786"
            ],
            [
             0.5555555555555556,
             "#d8576b"
            ],
            [
             0.6666666666666666,
             "#ed7953"
            ],
            [
             0.7777777777777778,
             "#fb9f3a"
            ],
            [
             0.8888888888888888,
             "#fdca26"
            ],
            [
             1,
             "#f0f921"
            ]
           ]
          },
          "colorway": [
           "#636efa",
           "#EF553B",
           "#00cc96",
           "#ab63fa",
           "#FFA15A",
           "#19d3f3",
           "#FF6692",
           "#B6E880",
           "#FF97FF",
           "#FECB52"
          ],
          "font": {
           "color": "#2a3f5f"
          },
          "geo": {
           "bgcolor": "white",
           "lakecolor": "white",
           "landcolor": "#E5ECF6",
           "showlakes": true,
           "showland": true,
           "subunitcolor": "white"
          },
          "hoverlabel": {
           "align": "left"
          },
          "hovermode": "closest",
          "mapbox": {
           "style": "light"
          },
          "paper_bgcolor": "white",
          "plot_bgcolor": "#E5ECF6",
          "polar": {
           "angularaxis": {
            "gridcolor": "white",
            "linecolor": "white",
            "ticks": ""
           },
           "bgcolor": "#E5ECF6",
           "radialaxis": {
            "gridcolor": "white",
            "linecolor": "white",
            "ticks": ""
           }
          },
          "scene": {
           "xaxis": {
            "backgroundcolor": "#E5ECF6",
            "gridcolor": "white",
            "gridwidth": 2,
            "linecolor": "white",
            "showbackground": true,
            "ticks": "",
            "zerolinecolor": "white"
           },
           "yaxis": {
            "backgroundcolor": "#E5ECF6",
            "gridcolor": "white",
            "gridwidth": 2,
            "linecolor": "white",
            "showbackground": true,
            "ticks": "",
            "zerolinecolor": "white"
           },
           "zaxis": {
            "backgroundcolor": "#E5ECF6",
            "gridcolor": "white",
            "gridwidth": 2,
            "linecolor": "white",
            "showbackground": true,
            "ticks": "",
            "zerolinecolor": "white"
           }
          },
          "shapedefaults": {
           "line": {
            "color": "#2a3f5f"
           }
          },
          "ternary": {
           "aaxis": {
            "gridcolor": "white",
            "linecolor": "white",
            "ticks": ""
           },
           "baxis": {
            "gridcolor": "white",
            "linecolor": "white",
            "ticks": ""
           },
           "bgcolor": "#E5ECF6",
           "caxis": {
            "gridcolor": "white",
            "linecolor": "white",
            "ticks": ""
           }
          },
          "title": {
           "x": 0.05
          },
          "xaxis": {
           "automargin": true,
           "gridcolor": "white",
           "linecolor": "white",
           "ticks": "",
           "title": {
            "standoff": 15
           },
           "zerolinecolor": "white",
           "zerolinewidth": 2
          },
          "yaxis": {
           "automargin": true,
           "gridcolor": "white",
           "linecolor": "white",
           "ticks": "",
           "title": {
            "standoff": 15
           },
           "zerolinecolor": "white",
           "zerolinewidth": 2
          }
         }
        },
        "title": {
         "text": "correlation between Giannis Points and Bucks points"
        },
        "xaxis": {
         "anchor": "y",
         "domain": [
          0,
          1
         ],
         "title": {
          "text": "PTS"
         }
        },
        "yaxis": {
         "anchor": "x",
         "domain": [
          0,
          1
         ],
         "title": {
          "text": "PTS_home"
         }
        }
       }
      }
     },
     "metadata": {},
     "output_type": "display_data"
    }
   ],
   "source": [
    "Home= df[df['HOME_TEAM_ID']==1610612749]\n",
    "\n",
    "import plotly.express as px\n",
    "Home['colscatt'] = np.arange(len(Home))*0.05\n",
    "fig = px.scatter(Home, x='PTS', y='PTS_home', size ='colscatt',title= 'correlation between Giannis Points and Bucks points')  \n",
    "fig.show()"
   ]
  },
  {
   "cell_type": "code",
   "execution_count": 15,
   "metadata": {},
   "outputs": [],
   "source": [
    "Home.to_csv(r\"C:\\Users\\kyrie\\ironhack-Final-Project\\final_project\\home.csv\")"
   ]
  },
  {
   "cell_type": "code",
   "execution_count": 16,
   "metadata": {},
   "outputs": [
    {
     "data": {
      "text/html": [
       "<div>\n",
       "<style scoped>\n",
       "    .dataframe tbody tr th:only-of-type {\n",
       "        vertical-align: middle;\n",
       "    }\n",
       "\n",
       "    .dataframe tbody tr th {\n",
       "        vertical-align: top;\n",
       "    }\n",
       "\n",
       "    .dataframe thead th {\n",
       "        text-align: right;\n",
       "    }\n",
       "</style>\n",
       "<table border=\"1\" class=\"dataframe\">\n",
       "  <thead>\n",
       "    <tr style=\"text-align: right;\">\n",
       "      <th></th>\n",
       "      <th>PTS_away</th>\n",
       "      <th>PTS_home</th>\n",
       "    </tr>\n",
       "    <tr>\n",
       "      <th>VISITOR_TEAM_ID</th>\n",
       "      <th></th>\n",
       "      <th></th>\n",
       "    </tr>\n",
       "  </thead>\n",
       "  <tbody>\n",
       "    <tr>\n",
       "      <th>1610612737</th>\n",
       "      <td>105.562500</td>\n",
       "      <td>109.937500</td>\n",
       "    </tr>\n",
       "    <tr>\n",
       "      <th>1610612738</th>\n",
       "      <td>103.619048</td>\n",
       "      <td>105.476190</td>\n",
       "    </tr>\n",
       "    <tr>\n",
       "      <th>1610612739</th>\n",
       "      <td>109.500000</td>\n",
       "      <td>111.000000</td>\n",
       "    </tr>\n",
       "    <tr>\n",
       "      <th>1610612740</th>\n",
       "      <td>113.333333</td>\n",
       "      <td>113.555556</td>\n",
       "    </tr>\n",
       "    <tr>\n",
       "      <th>1610612741</th>\n",
       "      <td>100.727273</td>\n",
       "      <td>100.409091</td>\n",
       "    </tr>\n",
       "    <tr>\n",
       "      <th>1610612742</th>\n",
       "      <td>106.909091</td>\n",
       "      <td>105.818182</td>\n",
       "    </tr>\n",
       "    <tr>\n",
       "      <th>1610612743</th>\n",
       "      <td>109.888889</td>\n",
       "      <td>100.888889</td>\n",
       "    </tr>\n",
       "    <tr>\n",
       "      <th>1610612744</th>\n",
       "      <td>104.222222</td>\n",
       "      <td>109.666667</td>\n",
       "    </tr>\n",
       "    <tr>\n",
       "      <th>1610612745</th>\n",
       "      <td>112.857143</td>\n",
       "      <td>114.428571</td>\n",
       "    </tr>\n",
       "    <tr>\n",
       "      <th>1610612746</th>\n",
       "      <td>108.250000</td>\n",
       "      <td>109.500000</td>\n",
       "    </tr>\n",
       "    <tr>\n",
       "      <th>1610612747</th>\n",
       "      <td>105.250000</td>\n",
       "      <td>108.375000</td>\n",
       "    </tr>\n",
       "    <tr>\n",
       "      <th>1610612748</th>\n",
       "      <td>104.388889</td>\n",
       "      <td>110.222222</td>\n",
       "    </tr>\n",
       "    <tr>\n",
       "      <th>1610612750</th>\n",
       "      <td>105.000000</td>\n",
       "      <td>112.615385</td>\n",
       "    </tr>\n",
       "    <tr>\n",
       "      <th>1610612751</th>\n",
       "      <td>102.111111</td>\n",
       "      <td>108.611111</td>\n",
       "    </tr>\n",
       "    <tr>\n",
       "      <th>1610612752</th>\n",
       "      <td>100.882353</td>\n",
       "      <td>111.941176</td>\n",
       "    </tr>\n",
       "    <tr>\n",
       "      <th>1610612753</th>\n",
       "      <td>100.250000</td>\n",
       "      <td>108.437500</td>\n",
       "    </tr>\n",
       "    <tr>\n",
       "      <th>1610612754</th>\n",
       "      <td>101.882353</td>\n",
       "      <td>110.411765</td>\n",
       "    </tr>\n",
       "    <tr>\n",
       "      <th>1610612755</th>\n",
       "      <td>104.062500</td>\n",
       "      <td>113.125000</td>\n",
       "    </tr>\n",
       "    <tr>\n",
       "      <th>1610612756</th>\n",
       "      <td>108.454545</td>\n",
       "      <td>114.000000</td>\n",
       "    </tr>\n",
       "    <tr>\n",
       "      <th>1610612757</th>\n",
       "      <td>104.000000</td>\n",
       "      <td>118.142857</td>\n",
       "    </tr>\n",
       "    <tr>\n",
       "      <th>1610612758</th>\n",
       "      <td>109.571429</td>\n",
       "      <td>118.428571</td>\n",
       "    </tr>\n",
       "    <tr>\n",
       "      <th>1610612759</th>\n",
       "      <td>110.000000</td>\n",
       "      <td>106.800000</td>\n",
       "    </tr>\n",
       "    <tr>\n",
       "      <th>1610612760</th>\n",
       "      <td>94.222222</td>\n",
       "      <td>100.666667</td>\n",
       "    </tr>\n",
       "    <tr>\n",
       "      <th>1610612761</th>\n",
       "      <td>103.473684</td>\n",
       "      <td>100.157895</td>\n",
       "    </tr>\n",
       "    <tr>\n",
       "      <th>1610612762</th>\n",
       "      <td>104.900000</td>\n",
       "      <td>109.200000</td>\n",
       "    </tr>\n",
       "    <tr>\n",
       "      <th>1610612763</th>\n",
       "      <td>100.000000</td>\n",
       "      <td>102.444444</td>\n",
       "    </tr>\n",
       "    <tr>\n",
       "      <th>1610612764</th>\n",
       "      <td>107.333333</td>\n",
       "      <td>110.083333</td>\n",
       "    </tr>\n",
       "    <tr>\n",
       "      <th>1610612765</th>\n",
       "      <td>99.047619</td>\n",
       "      <td>107.857143</td>\n",
       "    </tr>\n",
       "    <tr>\n",
       "      <th>1610612766</th>\n",
       "      <td>101.666667</td>\n",
       "      <td>103.800000</td>\n",
       "    </tr>\n",
       "  </tbody>\n",
       "</table>\n",
       "</div>"
      ],
      "text/plain": [
       "                   PTS_away    PTS_home\n",
       "VISITOR_TEAM_ID                        \n",
       "1610612737       105.562500  109.937500\n",
       "1610612738       103.619048  105.476190\n",
       "1610612739       109.500000  111.000000\n",
       "1610612740       113.333333  113.555556\n",
       "1610612741       100.727273  100.409091\n",
       "1610612742       106.909091  105.818182\n",
       "1610612743       109.888889  100.888889\n",
       "1610612744       104.222222  109.666667\n",
       "1610612745       112.857143  114.428571\n",
       "1610612746       108.250000  109.500000\n",
       "1610612747       105.250000  108.375000\n",
       "1610612748       104.388889  110.222222\n",
       "1610612750       105.000000  112.615385\n",
       "1610612751       102.111111  108.611111\n",
       "1610612752       100.882353  111.941176\n",
       "1610612753       100.250000  108.437500\n",
       "1610612754       101.882353  110.411765\n",
       "1610612755       104.062500  113.125000\n",
       "1610612756       108.454545  114.000000\n",
       "1610612757       104.000000  118.142857\n",
       "1610612758       109.571429  118.428571\n",
       "1610612759       110.000000  106.800000\n",
       "1610612760        94.222222  100.666667\n",
       "1610612761       103.473684  100.157895\n",
       "1610612762       104.900000  109.200000\n",
       "1610612763       100.000000  102.444444\n",
       "1610612764       107.333333  110.083333\n",
       "1610612765        99.047619  107.857143\n",
       "1610612766       101.666667  103.800000"
      ]
     },
     "execution_count": 16,
     "metadata": {},
     "output_type": "execute_result"
    }
   ],
   "source": [
    "TeamVSbucks = Home.pivot_table(index=[\"VISITOR_TEAM_ID\"], values=['PTS_home','PTS_away'], aggfunc=\"mean\")\n",
    "TeamVSbucks"
   ]
  },
  {
   "cell_type": "code",
   "execution_count": 17,
   "metadata": {},
   "outputs": [
    {
     "data": {
      "text/plain": [
       "<AxesSubplot:xlabel='PTS_away', ylabel='PTS_home'>"
      ]
     },
     "execution_count": 17,
     "metadata": {},
     "output_type": "execute_result"
    },
    {
     "data": {
      "image/png": "[encoded data removed]",
      "text/plain": [
       "<Figure size 640x480 with 1 Axes>"
      ]
     },
     "metadata": {},
     "output_type": "display_data"
    }
   ],
   "source": [
    "sns.scatterplot(data=TeamVSbucks, x=\"PTS_away\", y=\"PTS_home\", hue=TeamVSbucks.index, palette='viridis')\n"
   ]
  },
  {
   "cell_type": "code",
   "execution_count": 18,
   "metadata": {},
   "outputs": [
    {
     "data": {
      "application/vnd.plotly.v1+json": {
       "config": {
        "plotlyServerURL": "https://plot.ly"
       },
       "data": [
        {
         "hovertemplate": "PTS_away=%{x}<br>PTS_home=%{y}<br>VISITOR_TEAM_ID=%{marker.color}<extra></extra>",
         "legendgroup": "",
         "marker": {
          "color": [
           1610612737,
           1610612738,
           1610612739,
           1610612740,
           1610612741,
           1610612742,
           1610612743,
           1610612744,
           1610612745,
           1610612746,
           1610612747,
           1610612748,
           1610612750,
           1610612751,
           1610612752,
           1610612753,
           1610612754,
           1610612755,
           1610612756,
           1610612757,
           1610612758,
           1610612759,
           1610612760,
           1610612761,
           1610612762,
           1610612763,
           1610612764,
           1610612765,
           1610612766
          ],
          "coloraxis": "coloraxis",
          "symbol": "circle"
         },
         "mode": "markers",
         "name": "",
         "orientation": "v",
         "showlegend": false,
         "type": "scatter",
         "x": [
          105.5625,
          103.61904761904762,
          109.5,
          113.33333333333333,
          100.72727272727273,
          106.9090909090909,
          109.88888888888889,
          104.22222222222223,
          112.85714285714286,
          108.25,
          105.25,
          104.38888888888889,
          105,
          102.11111111111111,
          100.88235294117646,
          100.25,
          101.88235294117646,
          104.0625,
          108.45454545454545,
          104,
          109.57142857142857,
          110,
          94.22222222222223,
          103.47368421052632,
          104.9,
          100,
          107.33333333333333,
          99.04761904761905,
          101.66666666666667
         ],
         "xaxis": "x",
         "y": [
          109.9375,
          105.47619047619048,
          111,
          113.55555555555556,
          100.4090909090909,
          105.81818181818181,
          100.88888888888889,
          109.66666666666667,
          114.42857142857143,
          109.5,
          108.375,
          110.22222222222223,
          112.61538461538461,
          108.61111111111111,
          111.94117647058823,
          108.4375,
          110.41176470588235,
          113.125,
          114,
          118.14285714285714,
          118.42857142857143,
          106.8,
          100.66666666666667,
          100.15789473684211,
          109.2,
          102.44444444444444,
          110.08333333333333,
          107.85714285714286,
          103.8
         ],
         "yaxis": "y"
        }
       ],
       "layout": {
        "coloraxis": {
         "colorbar": {
          "title": {
           "text": "VISITOR_TEAM_ID"
          }
         },
         "colorscale": [
          [
           0,
           "#440154"
          ],
          [
           0.1111111111111111,
           "#482878"
          ],
          [
           0.2222222222222222,
           "#3e4989"
          ],
          [
           0.3333333333333333,
           "#31688e"
          ],
          [
           0.4444444444444444,
           "#26828e"
          ],
          [
           0.5555555555555556,
           "#1f9e89"
          ],
          [
           0.6666666666666666,
           "#35b779"
          ],
          [
           0.7777777777777778,
           "#6ece58"
          ],
          [
           0.8888888888888888,
           "#b5de2b"
          ],
          [
           1,
           "#fde725"
          ]
         ]
        },
        "legend": {
         "tracegroupgap": 0
        },
        "margin": {
         "t": 60
        },
        "template": {
         "data": {
          "bar": [
           {
            "error_x": {
             "color": "#2a3f5f"
            },
            "error_y": {
             "color": "#2a3f5f"
            },
            "marker": {
             "line": {
              "color": "#E5ECF6",
              "width": 0.5
             },
             "pattern": {
              "fillmode": "overlay",
              "size": 10,
              "solidity": 0.2
             }
            },
            "type": "bar"
           }
          ],
          "barpolar": [
           {
            "marker": {
             "line": {
              "color": "#E5ECF6",
              "width": 0.5
             },
             "pattern": {
              "fillmode": "overlay",
              "size": 10,
              "solidity": 0.2
             }
            },
            "type": "barpolar"
           }
          ],
          "carpet": [
           {
            "aaxis": {
             "endlinecolor": "#2a3f5f",
             "gridcolor": "white",
             "linecolor": "white",
             "minorgridcolor": "white",
             "startlinecolor": "#2a3f5f"
            },
            "baxis": {
             "endlinecolor": "#2a3f5f",
             "gridcolor": "white",
             "linecolor": "white",
             "minorgridcolor": "white",
             "startlinecolor": "#2a3f5f"
            },
            "type": "carpet"
           }
          ],
          "choropleth": [
           {
            "colorbar": {
             "outlinewidth": 0,
             "ticks": ""
            },
            "type": "choropleth"
           }
          ],
          "contour": [
           {
            "colorbar": {
             "outlinewidth": 0,
             "ticks": ""
            },
            "colorscale": [
             [
              0,
              "#0d0887"
             ],
             [
              0.1111111111111111,
              "#46039f"
             ],
             [
              0.2222222222222222,
              "#7201a8"
             ],
             [
              0.3333333333333333,
              "#9c179e"
             ],
             [
              0.4444444444444444,
              "#bd3786"
             ],
             [
              0.5555555555555556,
              "#d8576b"
             ],
             [
              0.6666666666666666,
              "#ed7953"
             ],
             [
              0.7777777777777778,
              "#fb9f3a"
             ],
             [
              0.8888888888888888,
              "#fdca26"
             ],
             [
              1,
              "#f0f921"
             ]
            ],
            "type": "contour"
           }
          ],
          "contourcarpet": [
           {
            "colorbar": {
             "outlinewidth": 0,
             "ticks": ""
            },
            "type": "contourcarpet"
           }
          ],
          "heatmap": [
           {
            "colorbar": {
             "outlinewidth": 0,
             "ticks": ""
            },
            "colorscale": [
             [
              0,
              "#0d0887"
             ],
             [
              0.1111111111111111,
              "#46039f"
             ],
             [
              0.2222222222222222,
              "#7201a8"
             ],
             [
              0.3333333333333333,
              "#9c179e"
             ],
             [
              0.4444444444444444,
              "#bd3786"
             ],
             [
              0.5555555555555556,
              "#d8576b"
             ],
             [
              0.6666666666666666,
              "#ed7953"
             ],
             [
              0.7777777777777778,
              "#fb9f3a"
             ],
             [
              0.8888888888888888,
              "#fdca26"
             ],
             [
              1,
              "#f0f921"
             ]
            ],
            "type": "heatmap"
           }
          ],
          "heatmapgl": [
           {
            "colorbar": {
             "outlinewidth": 0,
             "ticks": ""
            },
            "colorscale": [
             [
              0,
              "#0d0887"
             ],
             [
              0.1111111111111111,
              "#46039f"
             ],
             [
              0.2222222222222222,
              "#7201a8"
             ],
             [
              0.3333333333333333,
              "#9c179e"
             ],
             [
              0.4444444444444444,
              "#bd3786"
             ],
             [
              0.5555555555555556,
              "#d8576b"
             ],
             [
              0.6666666666666666,
              "#ed7953"
             ],
             [
              0.7777777777777778,
              "#fb9f3a"
             ],
             [
              0.8888888888888888,
              "#fdca26"
             ],
             [
              1,
              "#f0f921"
             ]
            ],
            "type": "heatmapgl"
           }
          ],
          "histogram": [
           {
            "marker": {
             "pattern": {
              "fillmode": "overlay",
              "size": 10,
              "solidity": 0.2
             }
            },
            "type": "histogram"
           }
          ],
          "histogram2d": [
           {
            "colorbar": {
             "outlinewidth": 0,
             "ticks": ""
            },
            "colorscale": [
             [
              0,
              "#0d0887"
             ],
             [
              0.1111111111111111,
              "#46039f"
             ],
             [
              0.2222222222222222,
              "#7201a8"
             ],
             [
              0.3333333333333333,
              "#9c179e"
             ],
             [
              0.4444444444444444,
              "#bd3786"
             ],
             [
              0.5555555555555556,
              "#d8576b"
             ],
             [
              0.6666666666666666,
              "#ed7953"
             ],
             [
              0.7777777777777778,
              "#fb9f3a"
             ],
             [
              0.8888888888888888,
              "#fdca26"
             ],
             [
              1,
              "#f0f921"
             ]
            ],
            "type": "histogram2d"
           }
          ],
          "histogram2dcontour": [
           {
            "colorbar": {
             "outlinewidth": 0,
             "ticks": ""
            },
            "colorscale": [
             [
              0,
              "#0d0887"
             ],
             [
              0.1111111111111111,
              "#46039f"
             ],
             [
              0.2222222222222222,
              "#7201a8"
             ],
             [
              0.3333333333333333,
              "#9c179e"
             ],
             [
              0.4444444444444444,
              "#bd3786"
             ],
             [
              0.5555555555555556,
              "#d8576b"
             ],
             [
              0.6666666666666666,
              "#ed7953"
             ],
             [
              0.7777777777777778,
              "#fb9f3a"
             ],
             [
              0.8888888888888888,
              "#fdca26"
             ],
             [
              1,
              "#f0f921"
             ]
            ],
            "type": "histogram2dcontour"
           }
          ],
          "mesh3d": [
           {
            "colorbar": {
             "outlinewidth": 0,
             "ticks": ""
            },
            "type": "mesh3d"
           }
          ],
          "parcoords": [
           {
            "line": {
             "colorbar": {
              "outlinewidth": 0,
              "ticks": ""
             }
            },
            "type": "parcoords"
           }
          ],
          "pie": [
           {
            "automargin": true,
            "type": "pie"
           }
          ],
          "scatter": [
           {
            "fillpattern": {
             "fillmode": "overlay",
             "size": 10,
             "solidity": 0.2
            },
            "type": "scatter"
           }
          ],
          "scatter3d": [
           {
            "line": {
             "colorbar": {
              "outlinewidth": 0,
              "ticks": ""
             }
            },
            "marker": {
             "colorbar": {
              "outlinewidth": 0,
              "ticks": ""
             }
            },
            "type": "scatter3d"
           }
          ],
          "scattercarpet": [
           {
            "marker": {
             "colorbar": {
              "outlinewidth": 0,
              "ticks": ""
             }
            },
            "type": "scattercarpet"
           }
          ],
          "scattergeo": [
           {
            "marker": {
             "colorbar": {
              "outlinewidth": 0,
              "ticks": ""
             }
            },
            "type": "scattergeo"
           }
          ],
          "scattergl": [
           {
            "marker": {
             "colorbar": {
              "outlinewidth": 0,
              "ticks": ""
             }
            },
            "type": "scattergl"
           }
          ],
          "scattermapbox": [
           {
            "marker": {
             "colorbar": {
              "outlinewidth": 0,
              "ticks": ""
             }
            },
            "type": "scattermapbox"
           }
          ],
          "scatterpolar": [
           {
            "marker": {
             "colorbar": {
              "outlinewidth": 0,
              "ticks": ""
             }
            },
            "type": "scatterpolar"
           }
          ],
          "scatterpolargl": [
           {
            "marker": {
             "colorbar": {
              "outlinewidth": 0,
              "ticks": ""
             }
            },
            "type": "scatterpolargl"
           }
          ],
          "scatterternary": [
           {
            "marker": {
             "colorbar": {
              "outlinewidth": 0,
              "ticks": ""
             }
            },
            "type": "scatterternary"
           }
          ],
          "surface": [
           {
            "colorbar": {
             "outlinewidth": 0,
             "ticks": ""
            },
            "colorscale": [
             [
              0,
              "#0d0887"
             ],
             [
              0.1111111111111111,
              "#46039f"
             ],
             [
              0.2222222222222222,
              "#7201a8"
             ],
             [
              0.3333333333333333,
              "#9c179e"
             ],
             [
              0.4444444444444444,
              "#bd3786"
             ],
             [
              0.5555555555555556,
              "#d8576b"
             ],
             [
              0.6666666666666666,
              "#ed7953"
             ],
             [
              0.7777777777777778,
              "#fb9f3a"
             ],
             [
              0.8888888888888888,
              "#fdca26"
             ],
             [
              1,
              "#f0f921"
             ]
            ],
            "type": "surface"
           }
          ],
          "table": [
           {
            "cells": {
             "fill": {
              "color": "#EBF0F8"
             },
             "line": {
              "color": "white"
             }
            },
            "header": {
             "fill": {
              "color": "#C8D4E3"
             },
             "line": {
              "color": "white"
             }
            },
            "type": "table"
           }
          ]
         },
         "layout": {
          "annotationdefaults": {
           "arrowcolor": "#2a3f5f",
           "arrowhead": 0,
           "arrowwidth": 1
          },
          "autotypenumbers": "strict",
          "coloraxis": {
           "colorbar": {
            "outlinewidth": 0,
            "ticks": ""
           }
          },
          "colorscale": {
           "diverging": [
            [
             0,
             "#8e0152"
            ],
            [
             0.1,
             "#c51b7d"
            ],
            [
             0.2,
             "#de77ae"
            ],
            [
             0.3,
             "#f1b6da"
            ],
            [
             0.4,
             "#fde0ef"
            ],
            [
             0.5,
             "#f7f7f7"
            ],
            [
             0.6,
             "#e6f5d0"
            ],
            [
             0.7,
             "#b8e186"
            ],
            [
             0.8,
             "#7fbc41"
            ],
            [
             0.9,
             "#4d9221"
            ],
            [
             1,
             "#276419"
            ]
           ],
           "sequential": [
            [
             0,
             "#0d0887"
            ],
            [
             0.1111111111111111,
             "#46039f"
            ],
            [
             0.2222222222222222,
             "#7201a8"
            ],
            [
             0.3333333333333333,
             "#9c179e"
            ],
            [
             0.4444444444444444,
             "#bd3786"
            ],
            [
             0.5555555555555556,
             "#d8576b"
            ],
            [
             0.6666666666666666,
             "#ed7953"
            ],
            [
             0.7777777777777778,
             "#fb9f3a"
            ],
            [
             0.8888888888888888,
             "#fdca26"
            ],
            [
             1,
             "#f0f921"
            ]
           ],
           "sequentialminus": [
            [
             0,
             "#0d0887"
            ],
            [
             0.1111111111111111,
             "#46039f"
            ],
            [
             0.2222222222222222,
             "#7201a8"
            ],
            [
             0.3333333333333333,
             "#9c179e"
            ],
            [
             0.4444444444444444,
             "#bd3786"
            ],
            [
             0.5555555555555556,
             "#d8576b"
            ],
            [
             0.6666666666666666,
             "#ed7953"
            ],
            [
             0.7777777777777778,
             "#fb9f3a"
            ],
            [
             0.8888888888888888,
             "#fdca26"
            ],
            [
             1,
             "#f0f921"
            ]
           ]
          },
          "colorway": [
           "#636efa",
           "#EF553B",
           "#00cc96",
           "#ab63fa",
           "#FFA15A",
           "#19d3f3",
           "#FF6692",
           "#B6E880",
           "#FF97FF",
           "#FECB52"
          ],
          "font": {
           "color": "#2a3f5f"
          },
          "geo": {
           "bgcolor": "white",
           "lakecolor": "white",
           "landcolor": "#E5ECF6",
           "showlakes": true,
           "showland": true,
           "subunitcolor": "white"
          },
          "hoverlabel": {
           "align": "left"
          },
          "hovermode": "closest",
          "mapbox": {
           "style": "light"
          },
          "paper_bgcolor": "white",
          "plot_bgcolor": "#E5ECF6",
          "polar": {
           "angularaxis": {
            "gridcolor": "white",
            "linecolor": "white",
            "ticks": ""
           },
           "bgcolor": "#E5ECF6",
           "radialaxis": {
            "gridcolor": "white",
            "linecolor": "white",
            "ticks": ""
           }
          },
          "scene": {
           "xaxis": {
            "backgroundcolor": "#E5ECF6",
            "gridcolor": "white",
            "gridwidth": 2,
            "linecolor": "white",
            "showbackground": true,
            "ticks": "",
            "zerolinecolor": "white"
           },
           "yaxis": {
            "backgroundcolor": "#E5ECF6",
            "gridcolor": "white",
            "gridwidth": 2,
            "linecolor": "white",
            "showbackground": true,
            "ticks": "",
            "zerolinecolor": "white"
           },
           "zaxis": {
            "backgroundcolor": "#E5ECF6",
            "gridcolor": "white",
            "gridwidth": 2,
            "linecolor": "white",
            "showbackground": true,
            "ticks": "",
            "zerolinecolor": "white"
           }
          },
          "shapedefaults": {
           "line": {
            "color": "#2a3f5f"
           }
          },
          "ternary": {
           "aaxis": {
            "gridcolor": "white",
            "linecolor": "white",
            "ticks": ""
           },
           "baxis": {
            "gridcolor": "white",
            "linecolor": "white",
            "ticks": ""
           },
           "bgcolor": "#E5ECF6",
           "caxis": {
            "gridcolor": "white",
            "linecolor": "white",
            "ticks": ""
           }
          },
          "title": {
           "x": 0.05
          },
          "xaxis": {
           "automargin": true,
           "gridcolor": "white",
           "linecolor": "white",
           "ticks": "",
           "title": {
            "standoff": 15
           },
           "zerolinecolor": "white",
           "zerolinewidth": 2
          },
          "yaxis": {
           "automargin": true,
           "gridcolor": "white",
           "linecolor": "white",
           "ticks": "",
           "title": {
            "standoff": 15
           },
           "zerolinecolor": "white",
           "zerolinewidth": 2
          }
         }
        },
        "xaxis": {
         "anchor": "y",
         "domain": [
          0,
          1
         ],
         "title": {
          "text": "PTS_away"
         }
        },
        "yaxis": {
         "anchor": "x",
         "domain": [
          0,
          1
         ],
         "title": {
          "text": "PTS_home"
         }
        }
       }
      }
     },
     "metadata": {},
     "output_type": "display_data"
    }
   ],
   "source": [
    "import plotly.express as px\n",
    "\n",
    "fig = px.scatter(TeamVSbucks, x=\"PTS_away\", y=\"PTS_home\", color= TeamVSbucks.index, color_continuous_scale=px.colors.sequential.Viridis)\n",
    "fig.show()\n"
   ]
  },
  {
   "cell_type": "code",
   "execution_count": 19,
   "metadata": {},
   "outputs": [
    {
     "data": {
      "text/html": [
       "<div>\n",
       "<style scoped>\n",
       "    .dataframe tbody tr th:only-of-type {\n",
       "        vertical-align: middle;\n",
       "    }\n",
       "\n",
       "    .dataframe tbody tr th {\n",
       "        vertical-align: top;\n",
       "    }\n",
       "\n",
       "    .dataframe thead th {\n",
       "        text-align: right;\n",
       "    }\n",
       "</style>\n",
       "<table border=\"1\" class=\"dataframe\">\n",
       "  <thead>\n",
       "    <tr style=\"text-align: right;\">\n",
       "      <th></th>\n",
       "      <th>SEASON</th>\n",
       "      <th>PLUS_MINUS</th>\n",
       "    </tr>\n",
       "  </thead>\n",
       "  <tbody>\n",
       "    <tr>\n",
       "      <th>0</th>\n",
       "      <td>2013</td>\n",
       "      <td>-2.201760</td>\n",
       "    </tr>\n",
       "    <tr>\n",
       "      <th>1</th>\n",
       "      <td>2014</td>\n",
       "      <td>-0.543478</td>\n",
       "    </tr>\n",
       "    <tr>\n",
       "      <th>2</th>\n",
       "      <td>2015</td>\n",
       "      <td>1.883721</td>\n",
       "    </tr>\n",
       "    <tr>\n",
       "      <th>3</th>\n",
       "      <td>2016</td>\n",
       "      <td>3.391304</td>\n",
       "    </tr>\n",
       "    <tr>\n",
       "      <th>4</th>\n",
       "      <td>2017</td>\n",
       "      <td>2.813953</td>\n",
       "    </tr>\n",
       "    <tr>\n",
       "      <th>5</th>\n",
       "      <td>2018</td>\n",
       "      <td>12.111111</td>\n",
       "    </tr>\n",
       "    <tr>\n",
       "      <th>6</th>\n",
       "      <td>2019</td>\n",
       "      <td>10.487179</td>\n",
       "    </tr>\n",
       "    <tr>\n",
       "      <th>7</th>\n",
       "      <td>2020</td>\n",
       "      <td>10.688889</td>\n",
       "    </tr>\n",
       "    <tr>\n",
       "      <th>8</th>\n",
       "      <td>2021</td>\n",
       "      <td>6.838710</td>\n",
       "    </tr>\n",
       "  </tbody>\n",
       "</table>\n",
       "</div>"
      ],
      "text/plain": [
       "   SEASON  PLUS_MINUS\n",
       "0    2013   -2.201760\n",
       "1    2014   -0.543478\n",
       "2    2015    1.883721\n",
       "3    2016    3.391304\n",
       "4    2017    2.813953\n",
       "5    2018   12.111111\n",
       "6    2019   10.487179\n",
       "7    2020   10.688889\n",
       "8    2021    6.838710"
      ]
     },
     "execution_count": 19,
     "metadata": {},
     "output_type": "execute_result"
    }
   ],
   "source": [
    "time_giannis = Home.groupby(['SEASON'], as_index = False)['PLUS_MINUS'].agg('mean')\n",
    "time_giannis"
   ]
  },
  {
   "cell_type": "code",
   "execution_count": 20,
   "metadata": {},
   "outputs": [
    {
     "data": {
      "application/vnd.plotly.v1+json": {
       "config": {
        "plotlyServerURL": "https://plot.ly"
       },
       "data": [
        {
         "hovertemplate": "SEASON=%{x}<br>PLUS_MINUS=%{y}<extra></extra>",
         "legendgroup": "",
         "line": {
          "color": "#636efa",
          "dash": "solid"
         },
         "marker": {
          "symbol": "circle"
         },
         "mode": "lines",
         "name": "",
         "orientation": "v",
         "showlegend": false,
         "type": "scatter",
         "x": [
          2013,
          2014,
          2015,
          2016,
          2017,
          2018,
          2019,
          2020,
          2021
         ],
         "xaxis": "x",
         "y": [
          -2.2017598130198666,
          -0.5434782608695652,
          1.8837209302325582,
          3.391304347826087,
          2.813953488372093,
          12.11111111111111,
          10.487179487179487,
          10.688888888888888,
          6.838709677419355
         ],
         "yaxis": "y"
        }
       ],
       "layout": {
        "legend": {
         "tracegroupgap": 0
        },
        "template": {
         "data": {
          "bar": [
           {
            "error_x": {
             "color": "#2a3f5f"
            },
            "error_y": {
             "color": "#2a3f5f"
            },
            "marker": {
             "line": {
              "color": "#E5ECF6",
              "width": 0.5
             },
             "pattern": {
              "fillmode": "overlay",
              "size": 10,
              "solidity": 0.2
             }
            },
            "type": "bar"
           }
          ],
          "barpolar": [
           {
            "marker": {
             "line": {
              "color": "#E5ECF6",
              "width": 0.5
             },
             "pattern": {
              "fillmode": "overlay",
              "size": 10,
              "solidity": 0.2
             }
            },
            "type": "barpolar"
           }
          ],
          "carpet": [
           {
            "aaxis": {
             "endlinecolor": "#2a3f5f",
             "gridcolor": "white",
             "linecolor": "white",
             "minorgridcolor": "white",
             "startlinecolor": "#2a3f5f"
            },
            "baxis": {
             "endlinecolor": "#2a3f5f",
             "gridcolor": "white",
             "linecolor": "white",
             "minorgridcolor": "white",
             "startlinecolor": "#2a3f5f"
            },
            "type": "carpet"
           }
          ],
          "choropleth": [
           {
            "colorbar": {
             "outlinewidth": 0,
             "ticks": ""
            },
            "type": "choropleth"
           }
          ],
          "contour": [
           {
            "colorbar": {
             "outlinewidth": 0,
             "ticks": ""
            },
            "colorscale": [
             [
              0,
              "#0d0887"
             ],
             [
              0.1111111111111111,
              "#46039f"
             ],
             [
              0.2222222222222222,
              "#7201a8"
             ],
             [
              0.3333333333333333,
              "#9c179e"
             ],
             [
              0.4444444444444444,
              "#bd3786"
             ],
             [
              0.5555555555555556,
              "#d8576b"
             ],
             [
              0.6666666666666666,
              "#ed7953"
             ],
             [
              0.7777777777777778,
              "#fb9f3a"
             ],
             [
              0.8888888888888888,
              "#fdca26"
             ],
             [
              1,
              "#f0f921"
             ]
            ],
            "type": "contour"
           }
          ],
          "contourcarpet": [
           {
            "colorbar": {
             "outlinewidth": 0,
             "ticks": ""
            },
            "type": "contourcarpet"
           }
          ],
          "heatmap": [
           {
            "colorbar": {
             "outlinewidth": 0,
             "ticks": ""
            },
            "colorscale": [
             [
              0,
              "#0d0887"
             ],
             [
              0.1111111111111111,
              "#46039f"
             ],
             [
              0.2222222222222222,
              "#7201a8"
             ],
             [
              0.3333333333333333,
              "#9c179e"
             ],
             [
              0.4444444444444444,
              "#bd3786"
             ],
             [
              0.5555555555555556,
              "#d8576b"
             ],
             [
              0.6666666666666666,
              "#ed7953"
             ],
             [
              0.7777777777777778,
              "#fb9f3a"
             ],
             [
              0.8888888888888888,
              "#fdca26"
             ],
             [
              1,
              "#f0f921"
             ]
            ],
            "type": "heatmap"
           }
          ],
          "heatmapgl": [
           {
            "colorbar": {
             "outlinewidth": 0,
             "ticks": ""
            },
            "colorscale": [
             [
              0,
              "#0d0887"
             ],
             [
              0.1111111111111111,
              "#46039f"
             ],
             [
              0.2222222222222222,
              "#7201a8"
             ],
             [
              0.3333333333333333,
              "#9c179e"
             ],
             [
              0.4444444444444444,
              "#bd3786"
             ],
             [
              0.5555555555555556,
              "#d8576b"
             ],
             [
              0.6666666666666666,
              "#ed7953"
             ],
             [
              0.7777777777777778,
              "#fb9f3a"
             ],
             [
              0.8888888888888888,
              "#fdca26"
             ],
             [
              1,
              "#f0f921"
             ]
            ],
            "type": "heatmapgl"
           }
          ],
          "histogram": [
           {
            "marker": {
             "pattern": {
              "fillmode": "overlay",
              "size": 10,
              "solidity": 0.2
             }
            },
            "type": "histogram"
           }
          ],
          "histogram2d": [
           {
            "colorbar": {
             "outlinewidth": 0,
             "ticks": ""
            },
            "colorscale": [
             [
              0,
              "#0d0887"
             ],
             [
              0.1111111111111111,
              "#46039f"
             ],
             [
              0.2222222222222222,
              "#7201a8"
             ],
             [
              0.3333333333333333,
              "#9c179e"
             ],
             [
              0.4444444444444444,
              "#bd3786"
             ],
             [
              0.5555555555555556,
              "#d8576b"
             ],
             [
              0.6666666666666666,
              "#ed7953"
             ],
             [
              0.7777777777777778,
              "#fb9f3a"
             ],
             [
              0.8888888888888888,
              "#fdca26"
             ],
             [
              1,
              "#f0f921"
             ]
            ],
            "type": "histogram2d"
           }
          ],
          "histogram2dcontour": [
           {
            "colorbar": {
             "outlinewidth": 0,
             "ticks": ""
            },
            "colorscale": [
             [
              0,
              "#0d0887"
             ],
             [
              0.1111111111111111,
              "#46039f"
             ],
             [
              0.2222222222222222,
              "#7201a8"
             ],
             [
              0.3333333333333333,
              "#9c179e"
             ],
             [
              0.4444444444444444,
              "#bd3786"
             ],
             [
              0.5555555555555556,
              "#d8576b"
             ],
             [
              0.6666666666666666,
              "#ed7953"
             ],
             [
              0.7777777777777778,
              "#fb9f3a"
             ],
             [
              0.8888888888888888,
              "#fdca26"
             ],
             [
              1,
              "#f0f921"
             ]
            ],
            "type": "histogram2dcontour"
           }
          ],
          "mesh3d": [
           {
            "colorbar": {
             "outlinewidth": 0,
             "ticks": ""
            },
            "type": "mesh3d"
           }
          ],
          "parcoords": [
           {
            "line": {
             "colorbar": {
              "outlinewidth": 0,
              "ticks": ""
             }
            },
            "type": "parcoords"
           }
          ],
          "pie": [
           {
            "automargin": true,
            "type": "pie"
           }
          ],
          "scatter": [
           {
            "fillpattern": {
             "fillmode": "overlay",
             "size": 10,
             "solidity": 0.2
            },
            "type": "scatter"
           }
          ],
          "scatter3d": [
           {
            "line": {
             "colorbar": {
              "outlinewidth": 0,
              "ticks": ""
             }
            },
            "marker": {
             "colorbar": {
              "outlinewidth": 0,
              "ticks": ""
             }
            },
            "type": "scatter3d"
           }
          ],
          "scattercarpet": [
           {
            "marker": {
             "colorbar": {
              "outlinewidth": 0,
              "ticks": ""
             }
            },
            "type": "scattercarpet"
           }
          ],
          "scattergeo": [
           {
            "marker": {
             "colorbar": {
              "outlinewidth": 0,
              "ticks": ""
             }
            },
            "type": "scattergeo"
           }
          ],
          "scattergl": [
           {
            "marker": {
             "colorbar": {
              "outlinewidth": 0,
              "ticks": ""
             }
            },
            "type": "scattergl"
           }
          ],
          "scattermapbox": [
           {
            "marker": {
             "colorbar": {
              "outlinewidth": 0,
              "ticks": ""
             }
            },
            "type": "scattermapbox"
           }
          ],
          "scatterpolar": [
           {
            "marker": {
             "colorbar": {
              "outlinewidth": 0,
              "ticks": ""
             }
            },
            "type": "scatterpolar"
           }
          ],
          "scatterpolargl": [
           {
            "marker": {
             "colorbar": {
              "outlinewidth": 0,
              "ticks": ""
             }
            },
            "type": "scatterpolargl"
           }
          ],
          "scatterternary": [
           {
            "marker": {
             "colorbar": {
              "outlinewidth": 0,
              "ticks": ""
             }
            },
            "type": "scatterternary"
           }
          ],
          "surface": [
           {
            "colorbar": {
             "outlinewidth": 0,
             "ticks": ""
            },
            "colorscale": [
             [
              0,
              "#0d0887"
             ],
             [
              0.1111111111111111,
              "#46039f"
             ],
             [
              0.2222222222222222,
              "#7201a8"
             ],
             [
              0.3333333333333333,
              "#9c179e"
             ],
             [
              0.4444444444444444,
              "#bd3786"
             ],
             [
              0.5555555555555556,
              "#d8576b"
             ],
             [
              0.6666666666666666,
              "#ed7953"
             ],
             [
              0.7777777777777778,
              "#fb9f3a"
             ],
             [
              0.8888888888888888,
              "#fdca26"
             ],
             [
              1,
              "#f0f921"
             ]
            ],
            "type": "surface"
           }
          ],
          "table": [
           {
            "cells": {
             "fill": {
              "color": "#EBF0F8"
             },
             "line": {
              "color": "white"
             }
            },
            "header": {
             "fill": {
              "color": "#C8D4E3"
             },
             "line": {
              "color": "white"
             }
            },
            "type": "table"
           }
          ]
         },
         "layout": {
          "annotationdefaults": {
           "arrowcolor": "#2a3f5f",
           "arrowhead": 0,
           "arrowwidth": 1
          },
          "autotypenumbers": "strict",
          "coloraxis": {
           "colorbar": {
            "outlinewidth": 0,
            "ticks": ""
           }
          },
          "colorscale": {
           "diverging": [
            [
             0,
             "#8e0152"
            ],
            [
             0.1,
             "#c51b7d"
            ],
            [
             0.2,
             "#de77ae"
            ],
            [
             0.3,
             "#f1b6da"
            ],
            [
             0.4,
             "#fde0ef"
            ],
            [
             0.5,
             "#f7f7f7"
            ],
            [
             0.6,
             "#e6f5d0"
            ],
            [
             0.7,
             "#b8e186"
            ],
            [
             0.8,
             "#7fbc41"
            ],
            [
             0.9,
             "#4d9221"
            ],
            [
             1,
             "#276419"
            ]
           ],
           "sequential": [
            [
             0,
             "#0d0887"
            ],
            [
             0.1111111111111111,
             "#46039f"
            ],
            [
             0.2222222222222222,
             "#7201a8"
            ],
            [
             0.3333333333333333,
             "#9c179e"
            ],
            [
             0.4444444444444444,
             "#bd3786"
            ],
            [
             0.5555555555555556,
             "#d8576b"
            ],
            [
             0.6666666666666666,
             "#ed7953"
            ],
            [
             0.7777777777777778,
             "#fb9f3a"
            ],
            [
             0.8888888888888888,
             "#fdca26"
            ],
            [
             1,
             "#f0f921"
            ]
           ],
           "sequentialminus": [
            [
             0,
             "#0d0887"
            ],
            [
             0.1111111111111111,
             "#46039f"
            ],
            [
             0.2222222222222222,
             "#7201a8"
            ],
            [
             0.3333333333333333,
             "#9c179e"
            ],
            [
             0.4444444444444444,
             "#bd3786"
            ],
            [
             0.5555555555555556,
             "#d8576b"
            ],
            [
             0.6666666666666666,
             "#ed7953"
            ],
            [
             0.7777777777777778,
             "#fb9f3a"
            ],
            [
             0.8888888888888888,
             "#fdca26"
            ],
            [
             1,
             "#f0f921"
            ]
           ]
          },
          "colorway": [
           "#636efa",
           "#EF553B",
           "#00cc96",
           "#ab63fa",
           "#FFA15A",
           "#19d3f3",
           "#FF6692",
           "#B6E880",
           "#FF97FF",
           "#FECB52"
          ],
          "font": {
           "color": "#2a3f5f"
          },
          "geo": {
           "bgcolor": "white",
           "lakecolor": "white",
           "landcolor": "#E5ECF6",
           "showlakes": true,
           "showland": true,
           "subunitcolor": "white"
          },
          "hoverlabel": {
           "align": "left"
          },
          "hovermode": "closest",
          "mapbox": {
           "style": "light"
          },
          "paper_bgcolor": "white",
          "plot_bgcolor": "#E5ECF6",
          "polar": {
           "angularaxis": {
            "gridcolor": "white",
            "linecolor": "white",
            "ticks": ""
           },
           "bgcolor": "#E5ECF6",
           "radialaxis": {
            "gridcolor": "white",
            "linecolor": "white",
            "ticks": ""
           }
          },
          "scene": {
           "xaxis": {
            "backgroundcolor": "#E5ECF6",
            "gridcolor": "white",
            "gridwidth": 2,
            "linecolor": "white",
            "showbackground": true,
            "ticks": "",
            "zerolinecolor": "white"
           },
           "yaxis": {
            "backgroundcolor": "#E5ECF6",
            "gridcolor": "white",
            "gridwidth": 2,
            "linecolor": "white",
            "showbackground": true,
            "ticks": "",
            "zerolinecolor": "white"
           },
           "zaxis": {
            "backgroundcolor": "#E5ECF6",
            "gridcolor": "white",
            "gridwidth": 2,
            "linecolor": "white",
            "showbackground": true,
            "ticks": "",
            "zerolinecolor": "white"
           }
          },
          "shapedefaults": {
           "line": {
            "color": "#2a3f5f"
           }
          },
          "ternary": {
           "aaxis": {
            "gridcolor": "white",
            "linecolor": "white",
            "ticks": ""
           },
           "baxis": {
            "gridcolor": "white",
            "linecolor": "white",
            "ticks": ""
           },
           "bgcolor": "#E5ECF6",
           "caxis": {
            "gridcolor": "white",
            "linecolor": "white",
            "ticks": ""
           }
          },
          "title": {
           "x": 0.05
          },
          "xaxis": {
           "automargin": true,
           "gridcolor": "white",
           "linecolor": "white",
           "ticks": "",
           "title": {
            "standoff": 15
           },
           "zerolinecolor": "white",
           "zerolinewidth": 2
          },
          "yaxis": {
           "automargin": true,
           "gridcolor": "white",
           "linecolor": "white",
           "ticks": "",
           "title": {
            "standoff": 15
           },
           "zerolinecolor": "white",
           "zerolinewidth": 2
          }
         }
        },
        "title": {
         "text": "Giannis Plus_Minus evolution"
        },
        "xaxis": {
         "anchor": "y",
         "domain": [
          0,
          1
         ],
         "title": {
          "text": "SEASON"
         }
        },
        "yaxis": {
         "anchor": "x",
         "domain": [
          0,
          1
         ],
         "title": {
          "text": "PLUS_MINUS"
         }
        }
       }
      }
     },
     "metadata": {},
     "output_type": "display_data"
    }
   ],
   "source": [
    "import plotly.express as px\n",
    "\n",
    "fig = px.line(time_giannis, x='SEASON', y=\"PLUS_MINUS\", title='Giannis Plus_Minus evolution')\n",
    "fig.show()"
   ]
  },
  {
   "cell_type": "code",
   "execution_count": 21,
   "metadata": {},
   "outputs": [
    {
     "data": {
      "text/html": [
       "<div>\n",
       "<style scoped>\n",
       "    .dataframe tbody tr th:only-of-type {\n",
       "        vertical-align: middle;\n",
       "    }\n",
       "\n",
       "    .dataframe tbody tr th {\n",
       "        vertical-align: top;\n",
       "    }\n",
       "\n",
       "    .dataframe thead th {\n",
       "        text-align: right;\n",
       "    }\n",
       "</style>\n",
       "<table border=\"1\" class=\"dataframe\">\n",
       "  <thead>\n",
       "    <tr style=\"text-align: right;\">\n",
       "      <th></th>\n",
       "      <th>SEASON</th>\n",
       "      <th>HOME_TEAM_WINS</th>\n",
       "    </tr>\n",
       "  </thead>\n",
       "  <tbody>\n",
       "    <tr>\n",
       "      <th>0</th>\n",
       "      <td>2013</td>\n",
       "      <td>0.256410</td>\n",
       "    </tr>\n",
       "    <tr>\n",
       "      <th>1</th>\n",
       "      <td>2014</td>\n",
       "      <td>0.543478</td>\n",
       "    </tr>\n",
       "    <tr>\n",
       "      <th>2</th>\n",
       "      <td>2015</td>\n",
       "      <td>0.558140</td>\n",
       "    </tr>\n",
       "    <tr>\n",
       "      <th>3</th>\n",
       "      <td>2016</td>\n",
       "      <td>0.565217</td>\n",
       "    </tr>\n",
       "    <tr>\n",
       "      <th>4</th>\n",
       "      <td>2017</td>\n",
       "      <td>0.627907</td>\n",
       "    </tr>\n",
       "    <tr>\n",
       "      <th>5</th>\n",
       "      <td>2018</td>\n",
       "      <td>0.844444</td>\n",
       "    </tr>\n",
       "    <tr>\n",
       "      <th>6</th>\n",
       "      <td>2019</td>\n",
       "      <td>0.794872</td>\n",
       "    </tr>\n",
       "    <tr>\n",
       "      <th>7</th>\n",
       "      <td>2020</td>\n",
       "      <td>0.755556</td>\n",
       "    </tr>\n",
       "    <tr>\n",
       "      <th>8</th>\n",
       "      <td>2021</td>\n",
       "      <td>0.677419</td>\n",
       "    </tr>\n",
       "  </tbody>\n",
       "</table>\n",
       "</div>"
      ],
      "text/plain": [
       "   SEASON  HOME_TEAM_WINS\n",
       "0    2013        0.256410\n",
       "1    2014        0.543478\n",
       "2    2015        0.558140\n",
       "3    2016        0.565217\n",
       "4    2017        0.627907\n",
       "5    2018        0.844444\n",
       "6    2019        0.794872\n",
       "7    2020        0.755556\n",
       "8    2021        0.677419"
      ]
     },
     "execution_count": 21,
     "metadata": {},
     "output_type": "execute_result"
    }
   ],
   "source": [
    "time_bucks = Home.groupby(['SEASON'], as_index = False)['HOME_TEAM_WINS'].agg('mean')\n",
    "time_bucks"
   ]
  },
  {
   "cell_type": "code",
   "execution_count": 22,
   "metadata": {},
   "outputs": [
    {
     "data": {
      "application/vnd.plotly.v1+json": {
       "config": {
        "plotlyServerURL": "https://plot.ly"
       },
       "data": [
        {
         "hovertemplate": "SEASON=%{x}<br>HOME_TEAM_WINS=%{y}<extra></extra>",
         "legendgroup": "",
         "line": {
          "color": "#636efa",
          "dash": "solid"
         },
         "marker": {
          "symbol": "circle"
         },
         "mode": "lines",
         "name": "",
         "orientation": "v",
         "showlegend": false,
         "type": "scatter",
         "x": [
          2013,
          2014,
          2015,
          2016,
          2017,
          2018,
          2019,
          2020,
          2021
         ],
         "xaxis": "x",
         "y": [
          0.2564102564102564,
          0.5434782608695652,
          0.5581395348837209,
          0.5652173913043478,
          0.627906976744186,
          0.8444444444444444,
          0.7948717948717948,
          0.7555555555555555,
          0.6774193548387096
         ],
         "yaxis": "y"
        }
       ],
       "layout": {
        "legend": {
         "tracegroupgap": 0
        },
        "template": {
         "data": {
          "bar": [
           {
            "error_x": {
             "color": "#2a3f5f"
            },
            "error_y": {
             "color": "#2a3f5f"
            },
            "marker": {
             "line": {
              "color": "#E5ECF6",
              "width": 0.5
             },
             "pattern": {
              "fillmode": "overlay",
              "size": 10,
              "solidity": 0.2
             }
            },
            "type": "bar"
           }
          ],
          "barpolar": [
           {
            "marker": {
             "line": {
              "color": "#E5ECF6",
              "width": 0.5
             },
             "pattern": {
              "fillmode": "overlay",
              "size": 10,
              "solidity": 0.2
             }
            },
            "type": "barpolar"
           }
          ],
          "carpet": [
           {
            "aaxis": {
             "endlinecolor": "#2a3f5f",
             "gridcolor": "white",
             "linecolor": "white",
             "minorgridcolor": "white",
             "startlinecolor": "#2a3f5f"
            },
            "baxis": {
             "endlinecolor": "#2a3f5f",
             "gridcolor": "white",
             "linecolor": "white",
             "minorgridcolor": "white",
             "startlinecolor": "#2a3f5f"
            },
            "type": "carpet"
           }
          ],
          "choropleth": [
           {
            "colorbar": {
             "outlinewidth": 0,
             "ticks": ""
            },
            "type": "choropleth"
           }
          ],
          "contour": [
           {
            "colorbar": {
             "outlinewidth": 0,
             "ticks": ""
            },
            "colorscale": [
             [
              0,
              "#0d0887"
             ],
             [
              0.1111111111111111,
              "#46039f"
             ],
             [
              0.2222222222222222,
              "#7201a8"
             ],
             [
              0.3333333333333333,
              "#9c179e"
             ],
             [
              0.4444444444444444,
              "#bd3786"
             ],
             [
              0.5555555555555556,
              "#d8576b"
             ],
             [
              0.6666666666666666,
              "#ed7953"
             ],
             [
              0.7777777777777778,
              "#fb9f3a"
             ],
             [
              0.8888888888888888,
              "#fdca26"
             ],
             [
              1,
              "#f0f921"
             ]
            ],
            "type": "contour"
           }
          ],
          "contourcarpet": [
           {
            "colorbar": {
             "outlinewidth": 0,
             "ticks": ""
            },
            "type": "contourcarpet"
           }
          ],
          "heatmap": [
           {
            "colorbar": {
             "outlinewidth": 0,
             "ticks": ""
            },
            "colorscale": [
             [
              0,
              "#0d0887"
             ],
             [
              0.1111111111111111,
              "#46039f"
             ],
             [
              0.2222222222222222,
              "#7201a8"
             ],
             [
              0.3333333333333333,
              "#9c179e"
             ],
             [
              0.4444444444444444,
              "#bd3786"
             ],
             [
              0.5555555555555556,
              "#d8576b"
             ],
             [
              0.6666666666666666,
              "#ed7953"
             ],
             [
              0.7777777777777778,
              "#fb9f3a"
             ],
             [
              0.8888888888888888,
              "#fdca26"
             ],
             [
              1,
              "#f0f921"
             ]
            ],
            "type": "heatmap"
           }
          ],
          "heatmapgl": [
           {
            "colorbar": {
             "outlinewidth": 0,
             "ticks": ""
            },
            "colorscale": [
             [
              0,
              "#0d0887"
             ],
             [
              0.1111111111111111,
              "#46039f"
             ],
             [
              0.2222222222222222,
              "#7201a8"
             ],
             [
              0.3333333333333333,
              "#9c179e"
             ],
             [
              0.4444444444444444,
              "#bd3786"
             ],
             [
              0.5555555555555556,
              "#d8576b"
             ],
             [
              0.6666666666666666,
              "#ed7953"
             ],
             [
              0.7777777777777778,
              "#fb9f3a"
             ],
             [
              0.8888888888888888,
              "#fdca26"
             ],
             [
              1,
              "#f0f921"
             ]
            ],
            "type": "heatmapgl"
           }
          ],
          "histogram": [
           {
            "marker": {
             "pattern": {
              "fillmode": "overlay",
              "size": 10,
              "solidity": 0.2
             }
            },
            "type": "histogram"
           }
          ],
          "histogram2d": [
           {
            "colorbar": {
             "outlinewidth": 0,
             "ticks": ""
            },
            "colorscale": [
             [
              0,
              "#0d0887"
             ],
             [
              0.1111111111111111,
              "#46039f"
             ],
             [
              0.2222222222222222,
              "#7201a8"
             ],
             [
              0.3333333333333333,
              "#9c179e"
             ],
             [
              0.4444444444444444,
              "#bd3786"
             ],
             [
              0.5555555555555556,
              "#d8576b"
             ],
             [
              0.6666666666666666,
              "#ed7953"
             ],
             [
              0.7777777777777778,
              "#fb9f3a"
             ],
             [
              0.8888888888888888,
              "#fdca26"
             ],
             [
              1,
              "#f0f921"
             ]
            ],
            "type": "histogram2d"
           }
          ],
          "histogram2dcontour": [
           {
            "colorbar": {
             "outlinewidth": 0,
             "ticks": ""
            },
            "colorscale": [
             [
              0,
              "#0d0887"
             ],
             [
              0.1111111111111111,
              "#46039f"
             ],
             [
              0.2222222222222222,
              "#7201a8"
             ],
             [
              0.3333333333333333,
              "#9c179e"
             ],
             [
              0.4444444444444444,
              "#bd3786"
             ],
             [
              0.5555555555555556,
              "#d8576b"
             ],
             [
              0.6666666666666666,
              "#ed7953"
             ],
             [
              0.7777777777777778,
              "#fb9f3a"
             ],
             [
              0.8888888888888888,
              "#fdca26"
             ],
             [
              1,
              "#f0f921"
             ]
            ],
            "type": "histogram2dcontour"
           }
          ],
          "mesh3d": [
           {
            "colorbar": {
             "outlinewidth": 0,
             "ticks": ""
            },
            "type": "mesh3d"
           }
          ],
          "parcoords": [
           {
            "line": {
             "colorbar": {
              "outlinewidth": 0,
              "ticks": ""
             }
            },
            "type": "parcoords"
           }
          ],
          "pie": [
           {
            "automargin": true,
            "type": "pie"
           }
          ],
          "scatter": [
           {
            "fillpattern": {
             "fillmode": "overlay",
             "size": 10,
             "solidity": 0.2
            },
            "type": "scatter"
           }
          ],
          "scatter3d": [
           {
            "line": {
             "colorbar": {
              "outlinewidth": 0,
              "ticks": ""
             }
            },
            "marker": {
             "colorbar": {
              "outlinewidth": 0,
              "ticks": ""
             }
            },
            "type": "scatter3d"
           }
          ],
          "scattercarpet": [
           {
            "marker": {
             "colorbar": {
              "outlinewidth": 0,
              "ticks": ""
             }
            },
            "type": "scattercarpet"
           }
          ],
          "scattergeo": [
           {
            "marker": {
             "colorbar": {
              "outlinewidth": 0,
              "ticks": ""
             }
            },
            "type": "scattergeo"
           }
          ],
          "scattergl": [
           {
            "marker": {
             "colorbar": {
              "outlinewidth": 0,
              "ticks": ""
             }
            },
            "type": "scattergl"
           }
          ],
          "scattermapbox": [
           {
            "marker": {
             "colorbar": {
              "outlinewidth": 0,
              "ticks": ""
             }
            },
            "type": "scattermapbox"
           }
          ],
          "scatterpolar": [
           {
            "marker": {
             "colorbar": {
              "outlinewidth": 0,
              "ticks": ""
             }
            },
            "type": "scatterpolar"
           }
          ],
          "scatterpolargl": [
           {
            "marker": {
             "colorbar": {
              "outlinewidth": 0,
              "ticks": ""
             }
            },
            "type": "scatterpolargl"
           }
          ],
          "scatterternary": [
           {
            "marker": {
             "colorbar": {
              "outlinewidth": 0,
              "ticks": ""
             }
            },
            "type": "scatterternary"
           }
          ],
          "surface": [
           {
            "colorbar": {
             "outlinewidth": 0,
             "ticks": ""
            },
            "colorscale": [
             [
              0,
              "#0d0887"
             ],
             [
              0.1111111111111111,
              "#46039f"
             ],
             [
              0.2222222222222222,
              "#7201a8"
             ],
             [
              0.3333333333333333,
              "#9c179e"
             ],
             [
              0.4444444444444444,
              "#bd3786"
             ],
             [
              0.5555555555555556,
              "#d8576b"
             ],
             [
              0.6666666666666666,
              "#ed7953"
             ],
             [
              0.7777777777777778,
              "#fb9f3a"
             ],
             [
              0.8888888888888888,
              "#fdca26"
             ],
             [
              1,
              "#f0f921"
             ]
            ],
            "type": "surface"
           }
          ],
          "table": [
           {
            "cells": {
             "fill": {
              "color": "#EBF0F8"
             },
             "line": {
              "color": "white"
             }
            },
            "header": {
             "fill": {
              "color": "#C8D4E3"
             },
             "line": {
              "color": "white"
             }
            },
            "type": "table"
           }
          ]
         },
         "layout": {
          "annotationdefaults": {
           "arrowcolor": "#2a3f5f",
           "arrowhead": 0,
           "arrowwidth": 1
          },
          "autotypenumbers": "strict",
          "coloraxis": {
           "colorbar": {
            "outlinewidth": 0,
            "ticks": ""
           }
          },
          "colorscale": {
           "diverging": [
            [
             0,
             "#8e0152"
            ],
            [
             0.1,
             "#c51b7d"
            ],
            [
             0.2,
             "#de77ae"
            ],
            [
             0.3,
             "#f1b6da"
            ],
            [
             0.4,
             "#fde0ef"
            ],
            [
             0.5,
             "#f7f7f7"
            ],
            [
             0.6,
             "#e6f5d0"
            ],
            [
             0.7,
             "#b8e186"
            ],
            [
             0.8,
             "#7fbc41"
            ],
            [
             0.9,
             "#4d9221"
            ],
            [
             1,
             "#276419"
            ]
           ],
           "sequential": [
            [
             0,
             "#0d0887"
            ],
            [
             0.1111111111111111,
             "#46039f"
            ],
            [
             0.2222222222222222,
             "#7201a8"
            ],
            [
             0.3333333333333333,
             "#9c179e"
            ],
            [
             0.4444444444444444,
             "#bd3786"
            ],
            [
             0.5555555555555556,
             "#d8576b"
            ],
            [
             0.6666666666666666,
             "#ed7953"
            ],
            [
             0.7777777777777778,
             "#fb9f3a"
            ],
            [
             0.8888888888888888,
             "#fdca26"
            ],
            [
             1,
             "#f0f921"
            ]
           ],
           "sequentialminus": [
            [
             0,
             "#0d0887"
            ],
            [
             0.1111111111111111,
             "#46039f"
            ],
            [
             0.2222222222222222,
             "#7201a8"
            ],
            [
             0.3333333333333333,
             "#9c179e"
            ],
            [
             0.4444444444444444,
             "#bd3786"
            ],
            [
             0.5555555555555556,
             "#d8576b"
            ],
            [
             0.6666666666666666,
             "#ed7953"
            ],
            [
             0.7777777777777778,
             "#fb9f3a"
            ],
            [
             0.8888888888888888,
             "#fdca26"
            ],
            [
             1,
             "#f0f921"
            ]
           ]
          },
          "colorway": [
           "#636efa",
           "#EF553B",
           "#00cc96",
           "#ab63fa",
           "#FFA15A",
           "#19d3f3",
           "#FF6692",
           "#B6E880",
           "#FF97FF",
           "#FECB52"
          ],
          "font": {
           "color": "#2a3f5f"
          },
          "geo": {
           "bgcolor": "white",
           "lakecolor": "white",
           "landcolor": "#E5ECF6",
           "showlakes": true,
           "showland": true,
           "subunitcolor": "white"
          },
          "hoverlabel": {
           "align": "left"
          },
          "hovermode": "closest",
          "mapbox": {
           "style": "light"
          },
          "paper_bgcolor": "white",
          "plot_bgcolor": "#E5ECF6",
          "polar": {
           "angularaxis": {
            "gridcolor": "white",
            "linecolor": "white",
            "ticks": ""
           },
           "bgcolor": "#E5ECF6",
           "radialaxis": {
            "gridcolor": "white",
            "linecolor": "white",
            "ticks": ""
           }
          },
          "scene": {
           "xaxis": {
            "backgroundcolor": "#E5ECF6",
            "gridcolor": "white",
            "gridwidth": 2,
            "linecolor": "white",
            "showbackground": true,
            "ticks": "",
            "zerolinecolor": "white"
           },
           "yaxis": {
            "backgroundcolor": "#E5ECF6",
            "gridcolor": "white",
            "gridwidth": 2,
            "linecolor": "white",
            "showbackground": true,
            "ticks": "",
            "zerolinecolor": "white"
           },
           "zaxis": {
            "backgroundcolor": "#E5ECF6",
            "gridcolor": "white",
            "gridwidth": 2,
            "linecolor": "white",
            "showbackground": true,
            "ticks": "",
            "zerolinecolor": "white"
           }
          },
          "shapedefaults": {
           "line": {
            "color": "#2a3f5f"
           }
          },
          "ternary": {
           "aaxis": {
            "gridcolor": "white",
            "linecolor": "white",
            "ticks": ""
           },
           "baxis": {
            "gridcolor": "white",
            "linecolor": "white",
            "ticks": ""
           },
           "bgcolor": "#E5ECF6",
           "caxis": {
            "gridcolor": "white",
            "linecolor": "white",
            "ticks": ""
           }
          },
          "title": {
           "x": 0.05
          },
          "xaxis": {
           "automargin": true,
           "gridcolor": "white",
           "linecolor": "white",
           "ticks": "",
           "title": {
            "standoff": 15
           },
           "zerolinecolor": "white",
           "zerolinewidth": 2
          },
          "yaxis": {
           "automargin": true,
           "gridcolor": "white",
           "linecolor": "white",
           "ticks": "",
           "title": {
            "standoff": 15
           },
           "zerolinecolor": "white",
           "zerolinewidth": 2
          }
         }
        },
        "title": {
         "text": "buck win percentage evolution"
        },
        "xaxis": {
         "anchor": "y",
         "domain": [
          0,
          1
         ],
         "title": {
          "text": "SEASON"
         }
        },
        "yaxis": {
         "anchor": "x",
         "domain": [
          0,
          1
         ],
         "title": {
          "text": "HOME_TEAM_WINS"
         }
        }
       }
      }
     },
     "metadata": {},
     "output_type": "display_data"
    }
   ],
   "source": [
    "fig = px.line(time_bucks, x='SEASON', y=\"HOME_TEAM_WINS\", title='buck win percentage evolution')\n",
    "fig.show()"
   ]
  },
  {
   "cell_type": "code",
   "execution_count": 23,
   "metadata": {},
   "outputs": [
    {
     "data": {
      "text/plain": [
       "Index(['GAME_DATE_EST', 'GAME_ID', 'HOME_TEAM_ID', 'VISITOR_TEAM_ID', 'SEASON',\n",
       "       'PTS_home', 'FG_PCT_home', 'FT_PCT_home', 'FG3_PCT_home', 'AST_home',\n",
       "       'REB_home', 'PTS_away', 'FG_PCT_away', 'FT_PCT_away', 'FG3_PCT_away',\n",
       "       'AST_away', 'REB_away', 'HOME_TEAM_WINS', 'TEAM_ID', 'TEAM_CITY',\n",
       "       'PLAYER_ID', 'PLAYER_NAME', 'START_POSITION', 'MIN', 'FGA', 'FG_PCT',\n",
       "       'FG3M', 'FG3A', 'FG3_PCT', 'FTM', 'FTA', 'FT_PCT', 'OREB', 'DREB',\n",
       "       'REB', 'AST', 'STL', 'BLK', 'TO', 'PTS', 'PLUS_MINUS'],\n",
       "      dtype='object')"
      ]
     },
     "execution_count": 23,
     "metadata": {},
     "output_type": "execute_result"
    }
   ],
   "source": [
    "df.columns"
   ]
  },
  {
   "cell_type": "code",
   "execution_count": 24,
   "metadata": {},
   "outputs": [],
   "source": [
    "homewin= Home[Home.HOME_TEAM_WINS==1]\n",
    "homelose= Home[Home.HOME_TEAM_WINS==0]"
   ]
  },
  {
   "cell_type": "code",
   "execution_count": 25,
   "metadata": {},
   "outputs": [
    {
     "data": {
      "text/plain": [
       "Text(0.5, 1.0, 'stats of giannis when the team win')"
      ]
     },
     "execution_count": 25,
     "metadata": {},
     "output_type": "execute_result"
    },
    {
     "data": {
      "image/png": "[encoded data removed]",
      "text/plain": [
       "<Figure size 640x480 with 1 Axes>"
      ]
     },
     "metadata": {},
     "output_type": "display_data"
    }
   ],
   "source": [
    "win = homewin[['PTS','REB','AST']].sample(20)\n",
    "win.plot.bar(stacked=True, cmap='viridis')\n",
    "plt.title('stats of giannis when the team win')"
   ]
  },
  {
   "cell_type": "code",
   "execution_count": 26,
   "metadata": {},
   "outputs": [
    {
     "data": {
      "text/plain": [
       "Text(0.5, 1.0, 'stats of giannis when the team lose')"
      ]
     },
     "execution_count": 26,
     "metadata": {},
     "output_type": "execute_result"
    },
    {
     "data": {
      "image/png": "[encoded data removed]",
      "text/plain": [
       "<Figure size 640x480 with 1 Axes>"
      ]
     },
     "metadata": {},
     "output_type": "display_data"
    }
   ],
   "source": [
    "lose= homelose[['PTS','REB','AST']].sample(20)\n",
    "lose.plot.bar(stacked=True, cmap='viridis')\n",
    "plt.title('stats of giannis when the team lose')"
   ]
  },
  {
   "cell_type": "code",
   "execution_count": 27,
   "metadata": {},
   "outputs": [],
   "source": [
    "# concatenate home and away"
   ]
  },
  {
   "cell_type": "code",
   "execution_count": 28,
   "metadata": {},
   "outputs": [
    {
     "name": "stdout",
     "output_type": "stream",
     "text": [
      "<class 'matplotlib.axes._subplots.Axes3DSubplot'>\n"
     ]
    },
    {
     "data": {
      "image/png": "[encoded data removed]",
      "text/plain": [
       "<Figure size 800x700 with 1 Axes>"
      ]
     },
     "metadata": {},
     "output_type": "display_data"
    }
   ],
   "source": [
    "sns.set_style(\"darkgrid\")\n",
    "\n",
    "\n",
    "number =50\n",
    "\n",
    "x1 = Home['PTS']\n",
    "y1 = Home['PLUS_MINUS']\n",
    "z1 = Home['HOME_TEAM_WINS']\n",
    "\n",
    "plt.figure(figsize=(8,7), dpi = 100)\n",
    "axes = plt.axes(projection='3d')\n",
    "print(type(axes))\n",
    "axes.scatter3D(x1, y1, z1)\n",
    "\n",
    "axes.set_xlabel('PTS')\n",
    "axes.set_ylabel('PLUS_MINUS')\n",
    "axes.set_zlabel('HOME_TEAM_WIN')\n",
    "plt.title('correlation between PTS REB and the win ')\n",
    "plt.show()"
   ]
  }
 ],
 "metadata": {
  "kernelspec": {
   "display_name": "Python 3.10.7 64-bit",
   "language": "python",
   "name": "python3"
  },
  "language_info": {
   "codemirror_mode": {
    "name": "ipython",
    "version": 3
   },
   "file_extension": ".py",
   "mimetype": "text/x-python",
   "name": "python",
   "nbconvert_exporter": "python",
   "pygments_lexer": "ipython3",
   "version": "3.10.7"
  },
  "orig_nbformat": 4,
  "vscode": {
   "interpreter": {
    "hash": "7ffc9f559d6da9faea5063134c3f6bb68e80b498154eb0f4f32994b5c14387f1"
   }
  }
 },
 "nbformat": 4,
 "nbformat_minor": 2
}
